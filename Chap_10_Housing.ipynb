{
 "cells": [
  {
   "cell_type": "markdown",
   "metadata": {
    "id": "8FCuv1Qkpn_V"
   },
   "source": [
    "# MLP Regressor trained with the California housing dataset"
   ]
  },
  {
   "cell_type": "markdown",
   "metadata": {
    "id": "HgZOnJ-vpn_X"
   },
   "source": [
    "## Setup"
   ]
  },
  {
   "cell_type": "code",
   "execution_count": 3,
   "metadata": {
    "id": "WizM4unQpn_Y"
   },
   "outputs": [],
   "source": [
    "# Common imports\n",
    "import sys\n",
    "import os\n",
    "import sklearn\n",
    "import numpy as np\n",
    "import pandas as pd\n",
    "import tensorflow as tf\n",
    "from tensorflow import keras\n",
    "\n",
    "# to make this notebook's output stable across runs\n",
    "np.random.seed(42)\n",
    "tf.random.set_seed(42)\n",
    "\n",
    "# To plot pretty figures\n",
    "%matplotlib inline\n",
    "import matplotlib.pyplot as plt\n",
    "\n",
    "# Import the SSL module and configure certificate verification to be optional to avoid SSLCertVerificationError.\n",
    "import ssl\n",
    "ssl.SSLContext.verify_mode = ssl.VerifyMode.CERT_OPTIONAL\n",
    "\n",
    "# Ignore useless warnings (see SciPy issue #5998)\n",
    "import warnings\n",
    "warnings.filterwarnings(action=\"ignore\", message=\"^internal gelsd\")"
   ]
  },
  {
   "cell_type": "markdown",
   "metadata": {
    "id": "dAhJ2A_Kpn_Z"
   },
   "source": [
    "## Load and split the dataset"
   ]
  },
  {
   "cell_type": "code",
   "execution_count": 5,
   "metadata": {
    "id": "mpOM30iDpn_Z"
   },
   "outputs": [],
   "source": [
    "from sklearn.datasets import fetch_california_housing\n",
    "from sklearn.model_selection import train_test_split\n",
    "from sklearn.preprocessing import StandardScaler\n",
    "from sklearn.preprocessing import MinMaxScaler\n",
    "\n",
    "housing = fetch_california_housing()\n",
    "\n",
    "X_train_full, X_test, y_train_full, y_test = train_test_split(housing.data, housing.target, random_state=42)\n",
    "X_train, X_valid, y_train, y_valid = train_test_split(X_train_full, y_train_full, random_state=42)\n",
    "\n",
    "# We could scale the features using SciKitLearn's StandardScaler or MinMaxScaler,\n",
    "# but in this example we will use the Keras Normalization Layer instead.\n",
    "#scaler = StandardScaler()\n",
    "#X_train = scaler.fit_transform(X_train)\n",
    "#X_valid = scaler.transform(X_valid)\n",
    "#X_test = scaler.transform(X_test)"
   ]
  },
  {
   "cell_type": "code",
   "execution_count": 6,
   "metadata": {
    "colab": {
     "base_uri": "https://localhost:8080/"
    },
    "id": "TLLbArbxpn_Z",
    "outputId": "ecd6ef0a-2dd6-418c-855e-81b347837a41"
   },
   "outputs": [
    {
     "data": {
      "text/plain": [
       "['MedInc',\n",
       " 'HouseAge',\n",
       " 'AveRooms',\n",
       " 'AveBedrms',\n",
       " 'Population',\n",
       " 'AveOccup',\n",
       " 'Latitude',\n",
       " 'Longitude']"
      ]
     },
     "execution_count": 6,
     "metadata": {},
     "output_type": "execute_result"
    }
   ],
   "source": [
    "# Display the feature names.\n",
    "# Note that this dataset is not exactly the same as the \"housing\" dataset used in chapter 2.\n",
    "# As a result, we cannot completely compare the RMSE of this model with the RMSEs of the\n",
    "# other models that we trained and tested using the dataset from chapter 2.\n",
    "housing.feature_names"
   ]
  },
  {
   "cell_type": "code",
   "execution_count": 7,
   "metadata": {
    "id": "qCXFVlM_pn_a"
   },
   "outputs": [],
   "source": [
    "# Display the number of rows and columns in the features array."
   ]
  },
  {
   "cell_type": "code",
   "execution_count": 8,
   "metadata": {
    "colab": {
     "base_uri": "https://localhost:8080/"
    },
    "id": "tn-TfIhfpn_a",
    "outputId": "a0e39fb4-210b-464b-9cd6-fa8ef6faaba0"
   },
   "outputs": [
    {
     "data": {
      "text/plain": [
       "(20640, 8)"
      ]
     },
     "execution_count": 8,
     "metadata": {},
     "output_type": "execute_result"
    }
   ],
   "source": [
    "housing.data.shape"
   ]
  },
  {
   "cell_type": "code",
   "execution_count": 9,
   "metadata": {},
   "outputs": [],
   "source": [
    "# Computing the mean median_house_value.\n",
    "# We can see that the target value have been scaled down by a factor of 100000\n",
    "# compared to the unprepared Housing dataset that we have used earlier."
   ]
  },
  {
   "cell_type": "code",
   "execution_count": 10,
   "metadata": {},
   "outputs": [
    {
     "data": {
      "text/plain": [
       "2.068558169089147"
      ]
     },
     "execution_count": 10,
     "metadata": {},
     "output_type": "execute_result"
    }
   ],
   "source": [
    "housing.target.mean()"
   ]
  },
  {
   "cell_type": "markdown",
   "metadata": {
    "id": "qhgtjhYQpn_a"
   },
   "source": [
    "## Build, compile, train and evaluate a model"
   ]
  },
  {
   "cell_type": "code",
   "execution_count": 12,
   "metadata": {
    "id": "UdQWyA2Qpn_b",
    "scrolled": true
   },
   "outputs": [],
   "source": [
    "# Build a model.\n",
    "# We don't need to specify an input layer, since we don't need to convert the input array.\n",
    "# For regression problems, we don't use an activation function in the output layer.\n",
    "\n",
    "# Keras Normalization Layer. See:\n",
    "#   https://www.tensorflow.org/api_docs/python/tf/keras/layers/Normalization\n",
    "norm_layer = keras.layers.Normalization()\n",
    "\n",
    "model = keras.models.Sequential([\n",
    "    norm_layer,\n",
    "    # hidden layers\n",
    "    keras.layers.Dense(50, activation=\"relu\"),\n",
    "    keras.layers.Dense(50, activation=\"relu\"),\n",
    "    keras.layers.Dense(50, activation=\"relu\"),\n",
    "    # output layer\n",
    "    keras.layers.Dense(1)\n",
    "])\n",
    "\n",
    "# Compile the model.\n",
    "# For regression problems, we use the \"mean_squared_error\" as loss function.\n",
    "model.compile(loss=\"mse\", optimizer=\"sgd\", metrics=[\"RootMeanSquaredError\"])\n",
    "\n",
    "# Normalize inputs.\n",
    "norm_layer.adapt(X_train)"
   ]
  },
  {
   "cell_type": "code",
   "execution_count": 13,
   "metadata": {
    "colab": {
     "base_uri": "https://localhost:8080/"
    },
    "id": "aXYx7GuUpn_b",
    "outputId": "92e60de2-c7f9-4276-c9ee-b4cdb8694082"
   },
   "outputs": [
    {
     "name": "stdout",
     "output_type": "stream",
     "text": [
      "Epoch 1/100\n",
      "\u001b[1m363/363\u001b[0m \u001b[32m━━━━━━━━━━━━━━━━━━━━\u001b[0m\u001b[37m\u001b[0m \u001b[1m0s\u001b[0m 554us/step - RootMeanSquaredError: 1.1231 - loss: 1.3644 - val_RootMeanSquaredError: 1.1256 - val_loss: 1.2670\n",
      "Epoch 2/100\n",
      "\u001b[1m363/363\u001b[0m \u001b[32m━━━━━━━━━━━━━━━━━━━━\u001b[0m\u001b[37m\u001b[0m \u001b[1m0s\u001b[0m 386us/step - RootMeanSquaredError: 0.6724 - loss: 0.4527 - val_RootMeanSquaredError: 1.0807 - val_loss: 1.1680\n",
      "Epoch 3/100\n",
      "\u001b[1m363/363\u001b[0m \u001b[32m━━━━━━━━━━━━━━━━━━━━\u001b[0m\u001b[37m\u001b[0m \u001b[1m0s\u001b[0m 383us/step - RootMeanSquaredError: 0.6396 - loss: 0.4092 - val_RootMeanSquaredError: 1.1695 - val_loss: 1.3678\n",
      "Epoch 4/100\n",
      "\u001b[1m363/363\u001b[0m \u001b[32m━━━━━━━━━━━━━━━━━━━━\u001b[0m\u001b[37m\u001b[0m \u001b[1m0s\u001b[0m 388us/step - RootMeanSquaredError: 0.6261 - loss: 0.3921 - val_RootMeanSquaredError: 0.7332 - val_loss: 0.5376\n",
      "Epoch 5/100\n",
      "\u001b[1m363/363\u001b[0m \u001b[32m━━━━━━━━━━━━━━━━━━━━\u001b[0m\u001b[37m\u001b[0m \u001b[1m0s\u001b[0m 401us/step - RootMeanSquaredError: 0.6139 - loss: 0.3771 - val_RootMeanSquaredError: 0.5861 - val_loss: 0.3435\n",
      "Epoch 6/100\n",
      "\u001b[1m363/363\u001b[0m \u001b[32m━━━━━━━━━━━━━━━━━━━━\u001b[0m\u001b[37m\u001b[0m \u001b[1m0s\u001b[0m 393us/step - RootMeanSquaredError: 0.6089 - loss: 0.3710 - val_RootMeanSquaredError: 0.5905 - val_loss: 0.3487\n",
      "Epoch 7/100\n",
      "\u001b[1m363/363\u001b[0m \u001b[32m━━━━━━━━━━━━━━━━━━━━\u001b[0m\u001b[37m\u001b[0m \u001b[1m0s\u001b[0m 394us/step - RootMeanSquaredError: 0.6029 - loss: 0.3637 - val_RootMeanSquaredError: 0.5812 - val_loss: 0.3378\n",
      "Epoch 8/100\n",
      "\u001b[1m363/363\u001b[0m \u001b[32m━━━━━━━━━━━━━━━━━━━━\u001b[0m\u001b[37m\u001b[0m \u001b[1m0s\u001b[0m 401us/step - RootMeanSquaredError: 0.5979 - loss: 0.3577 - val_RootMeanSquaredError: 0.5771 - val_loss: 0.3330\n",
      "Epoch 9/100\n",
      "\u001b[1m363/363\u001b[0m \u001b[32m━━━━━━━━━━━━━━━━━━━━\u001b[0m\u001b[37m\u001b[0m \u001b[1m0s\u001b[0m 431us/step - RootMeanSquaredError: 0.5931 - loss: 0.3520 - val_RootMeanSquaredError: 0.5760 - val_loss: 0.3317\n",
      "Epoch 10/100\n",
      "\u001b[1m363/363\u001b[0m \u001b[32m━━━━━━━━━━━━━━━━━━━━\u001b[0m\u001b[37m\u001b[0m \u001b[1m0s\u001b[0m 385us/step - RootMeanSquaredError: 0.5890 - loss: 0.3471 - val_RootMeanSquaredError: 0.5733 - val_loss: 0.3287\n",
      "Epoch 11/100\n",
      "\u001b[1m363/363\u001b[0m \u001b[32m━━━━━━━━━━━━━━━━━━━━\u001b[0m\u001b[37m\u001b[0m \u001b[1m0s\u001b[0m 386us/step - RootMeanSquaredError: 0.5852 - loss: 0.3426 - val_RootMeanSquaredError: 0.5645 - val_loss: 0.3186\n",
      "Epoch 12/100\n",
      "\u001b[1m363/363\u001b[0m \u001b[32m━━━━━━━━━━━━━━━━━━━━\u001b[0m\u001b[37m\u001b[0m \u001b[1m0s\u001b[0m 392us/step - RootMeanSquaredError: 0.5817 - loss: 0.3385 - val_RootMeanSquaredError: 0.5784 - val_loss: 0.3346\n",
      "Epoch 13/100\n",
      "\u001b[1m363/363\u001b[0m \u001b[32m━━━━━━━━━━━━━━━━━━━━\u001b[0m\u001b[37m\u001b[0m \u001b[1m0s\u001b[0m 391us/step - RootMeanSquaredError: 0.5784 - loss: 0.3346 - val_RootMeanSquaredError: 0.5611 - val_loss: 0.3148\n",
      "Epoch 14/100\n",
      "\u001b[1m363/363\u001b[0m \u001b[32m━━━━━━━━━━━━━━━━━━━━\u001b[0m\u001b[37m\u001b[0m \u001b[1m0s\u001b[0m 389us/step - RootMeanSquaredError: 0.5755 - loss: 0.3313 - val_RootMeanSquaredError: 0.5800 - val_loss: 0.3363\n",
      "Epoch 15/100\n",
      "\u001b[1m363/363\u001b[0m \u001b[32m━━━━━━━━━━━━━━━━━━━━\u001b[0m\u001b[37m\u001b[0m \u001b[1m0s\u001b[0m 387us/step - RootMeanSquaredError: 0.5725 - loss: 0.3278 - val_RootMeanSquaredError: 0.5839 - val_loss: 0.3410\n",
      "Epoch 16/100\n",
      "\u001b[1m363/363\u001b[0m \u001b[32m━━━━━━━━━━━━━━━━━━━━\u001b[0m\u001b[37m\u001b[0m \u001b[1m0s\u001b[0m 391us/step - RootMeanSquaredError: 0.5701 - loss: 0.3251 - val_RootMeanSquaredError: 0.5782 - val_loss: 0.3343\n",
      "Epoch 17/100\n",
      "\u001b[1m363/363\u001b[0m \u001b[32m━━━━━━━━━━━━━━━━━━━━\u001b[0m\u001b[37m\u001b[0m \u001b[1m0s\u001b[0m 397us/step - RootMeanSquaredError: 0.5665 - loss: 0.3210 - val_RootMeanSquaredError: 0.5519 - val_loss: 0.3046\n",
      "Epoch 18/100\n",
      "\u001b[1m363/363\u001b[0m \u001b[32m━━━━━━━━━━━━━━━━━━━━\u001b[0m\u001b[37m\u001b[0m \u001b[1m0s\u001b[0m 387us/step - RootMeanSquaredError: 0.5639 - loss: 0.3181 - val_RootMeanSquaredError: 0.5477 - val_loss: 0.2999\n",
      "Epoch 19/100\n",
      "\u001b[1m363/363\u001b[0m \u001b[32m━━━━━━━━━━━━━━━━━━━━\u001b[0m\u001b[37m\u001b[0m \u001b[1m0s\u001b[0m 387us/step - RootMeanSquaredError: 0.5610 - loss: 0.3148 - val_RootMeanSquaredError: 0.5478 - val_loss: 0.3001\n",
      "Epoch 20/100\n",
      "\u001b[1m363/363\u001b[0m \u001b[32m━━━━━━━━━━━━━━━━━━━━\u001b[0m\u001b[37m\u001b[0m \u001b[1m0s\u001b[0m 396us/step - RootMeanSquaredError: 0.5584 - loss: 0.3118 - val_RootMeanSquaredError: 0.5845 - val_loss: 0.3416\n",
      "Epoch 21/100\n",
      "\u001b[1m363/363\u001b[0m \u001b[32m━━━━━━━━━━━━━━━━━━━━\u001b[0m\u001b[37m\u001b[0m \u001b[1m0s\u001b[0m 375us/step - RootMeanSquaredError: 0.5566 - loss: 0.3099 - val_RootMeanSquaredError: 0.5911 - val_loss: 0.3494\n",
      "Epoch 22/100\n",
      "\u001b[1m363/363\u001b[0m \u001b[32m━━━━━━━━━━━━━━━━━━━━\u001b[0m\u001b[37m\u001b[0m \u001b[1m0s\u001b[0m 337us/step - RootMeanSquaredError: 0.5540 - loss: 0.3070 - val_RootMeanSquaredError: 0.5839 - val_loss: 0.3409\n",
      "Epoch 23/100\n",
      "\u001b[1m363/363\u001b[0m \u001b[32m━━━━━━━━━━━━━━━━━━━━\u001b[0m\u001b[37m\u001b[0m \u001b[1m0s\u001b[0m 334us/step - RootMeanSquaredError: 0.5524 - loss: 0.3052 - val_RootMeanSquaredError: 0.6499 - val_loss: 0.4224\n",
      "Epoch 24/100\n",
      "\u001b[1m363/363\u001b[0m \u001b[32m━━━━━━━━━━━━━━━━━━━━\u001b[0m\u001b[37m\u001b[0m \u001b[1m0s\u001b[0m 322us/step - RootMeanSquaredError: 0.5503 - loss: 0.3029 - val_RootMeanSquaredError: 0.7360 - val_loss: 0.5416\n",
      "Epoch 25/100\n",
      "\u001b[1m363/363\u001b[0m \u001b[32m━━━━━━━━━━━━━━━━━━━━\u001b[0m\u001b[37m\u001b[0m \u001b[1m0s\u001b[0m 383us/step - RootMeanSquaredError: 0.5497 - loss: 0.3023 - val_RootMeanSquaredError: 0.9756 - val_loss: 0.9519\n",
      "Epoch 26/100\n",
      "\u001b[1m363/363\u001b[0m \u001b[32m━━━━━━━━━━━━━━━━━━━━\u001b[0m\u001b[37m\u001b[0m \u001b[1m0s\u001b[0m 361us/step - RootMeanSquaredError: 0.5506 - loss: 0.3033 - val_RootMeanSquaredError: 0.9920 - val_loss: 0.9841\n",
      "Epoch 27/100\n",
      "\u001b[1m363/363\u001b[0m \u001b[32m━━━━━━━━━━━━━━━━━━━━\u001b[0m\u001b[37m\u001b[0m \u001b[1m0s\u001b[0m 319us/step - RootMeanSquaredError: 0.5503 - loss: 0.3029 - val_RootMeanSquaredError: 0.7455 - val_loss: 0.5557\n",
      "Epoch 28/100\n",
      "\u001b[1m363/363\u001b[0m \u001b[32m━━━━━━━━━━━━━━━━━━━━\u001b[0m\u001b[37m\u001b[0m \u001b[1m0s\u001b[0m 321us/step - RootMeanSquaredError: 0.5455 - loss: 0.2976 - val_RootMeanSquaredError: 0.5387 - val_loss: 0.2902\n",
      "Epoch 29/100\n",
      "\u001b[1m363/363\u001b[0m \u001b[32m━━━━━━━━━━━━━━━━━━━━\u001b[0m\u001b[37m\u001b[0m \u001b[1m0s\u001b[0m 320us/step - RootMeanSquaredError: 0.5428 - loss: 0.2947 - val_RootMeanSquaredError: 0.5484 - val_loss: 0.3007\n",
      "Epoch 30/100\n",
      "\u001b[1m363/363\u001b[0m \u001b[32m━━━━━━━━━━━━━━━━━━━━\u001b[0m\u001b[37m\u001b[0m \u001b[1m0s\u001b[0m 330us/step - RootMeanSquaredError: 0.5411 - loss: 0.2929 - val_RootMeanSquaredError: 0.5429 - val_loss: 0.2947\n",
      "Epoch 31/100\n",
      "\u001b[1m363/363\u001b[0m \u001b[32m━━━━━━━━━━━━━━━━━━━━\u001b[0m\u001b[37m\u001b[0m \u001b[1m0s\u001b[0m 377us/step - RootMeanSquaredError: 0.5395 - loss: 0.2911 - val_RootMeanSquaredError: 0.5409 - val_loss: 0.2926\n",
      "Epoch 32/100\n",
      "\u001b[1m363/363\u001b[0m \u001b[32m━━━━━━━━━━━━━━━━━━━━\u001b[0m\u001b[37m\u001b[0m \u001b[1m0s\u001b[0m 329us/step - RootMeanSquaredError: 0.5379 - loss: 0.2894 - val_RootMeanSquaredError: 0.5409 - val_loss: 0.2926\n",
      "Epoch 33/100\n",
      "\u001b[1m363/363\u001b[0m \u001b[32m━━━━━━━━━━━━━━━━━━━━\u001b[0m\u001b[37m\u001b[0m \u001b[1m0s\u001b[0m 326us/step - RootMeanSquaredError: 0.5365 - loss: 0.2879 - val_RootMeanSquaredError: 0.5395 - val_loss: 0.2911\n",
      "Epoch 34/100\n",
      "\u001b[1m363/363\u001b[0m \u001b[32m━━━━━━━━━━━━━━━━━━━━\u001b[0m\u001b[37m\u001b[0m \u001b[1m0s\u001b[0m 460us/step - RootMeanSquaredError: 0.5350 - loss: 0.2863 - val_RootMeanSquaredError: 0.5333 - val_loss: 0.2844\n",
      "Epoch 35/100\n",
      "\u001b[1m363/363\u001b[0m \u001b[32m━━━━━━━━━━━━━━━━━━━━\u001b[0m\u001b[37m\u001b[0m \u001b[1m0s\u001b[0m 405us/step - RootMeanSquaredError: 0.5337 - loss: 0.2849 - val_RootMeanSquaredError: 0.5379 - val_loss: 0.2893\n",
      "Epoch 36/100\n",
      "\u001b[1m363/363\u001b[0m \u001b[32m━━━━━━━━━━━━━━━━━━━━\u001b[0m\u001b[37m\u001b[0m \u001b[1m0s\u001b[0m 395us/step - RootMeanSquaredError: 0.5322 - loss: 0.2834 - val_RootMeanSquaredError: 0.5345 - val_loss: 0.2857\n",
      "Epoch 37/100\n",
      "\u001b[1m363/363\u001b[0m \u001b[32m━━━━━━━━━━━━━━━━━━━━\u001b[0m\u001b[37m\u001b[0m \u001b[1m0s\u001b[0m 401us/step - RootMeanSquaredError: 0.5313 - loss: 0.2824 - val_RootMeanSquaredError: 0.5367 - val_loss: 0.2880\n",
      "Epoch 38/100\n",
      "\u001b[1m363/363\u001b[0m \u001b[32m━━━━━━━━━━━━━━━━━━━━\u001b[0m\u001b[37m\u001b[0m \u001b[1m0s\u001b[0m 397us/step - RootMeanSquaredError: 0.5301 - loss: 0.2811 - val_RootMeanSquaredError: 0.5356 - val_loss: 0.2869\n",
      "Epoch 39/100\n",
      "\u001b[1m363/363\u001b[0m \u001b[32m━━━━━━━━━━━━━━━━━━━━\u001b[0m\u001b[37m\u001b[0m \u001b[1m0s\u001b[0m 402us/step - RootMeanSquaredError: 0.5290 - loss: 0.2799 - val_RootMeanSquaredError: 0.5339 - val_loss: 0.2851\n",
      "Epoch 40/100\n",
      "\u001b[1m363/363\u001b[0m \u001b[32m━━━━━━━━━━━━━━━━━━━━\u001b[0m\u001b[37m\u001b[0m \u001b[1m0s\u001b[0m 388us/step - RootMeanSquaredError: 0.5280 - loss: 0.2788 - val_RootMeanSquaredError: 0.5306 - val_loss: 0.2815\n",
      "Epoch 41/100\n",
      "\u001b[1m363/363\u001b[0m \u001b[32m━━━━━━━━━━━━━━━━━━━━\u001b[0m\u001b[37m\u001b[0m \u001b[1m0s\u001b[0m 408us/step - RootMeanSquaredError: 0.5271 - loss: 0.2779 - val_RootMeanSquaredError: 0.5303 - val_loss: 0.2812\n",
      "Epoch 42/100\n",
      "\u001b[1m363/363\u001b[0m \u001b[32m━━━━━━━━━━━━━━━━━━━━\u001b[0m\u001b[37m\u001b[0m \u001b[1m0s\u001b[0m 387us/step - RootMeanSquaredError: 0.5259 - loss: 0.2766 - val_RootMeanSquaredError: 0.5313 - val_loss: 0.2823\n",
      "Epoch 43/100\n",
      "\u001b[1m363/363\u001b[0m \u001b[32m━━━━━━━━━━━━━━━━━━━━\u001b[0m\u001b[37m\u001b[0m \u001b[1m0s\u001b[0m 392us/step - RootMeanSquaredError: 0.5249 - loss: 0.2756 - val_RootMeanSquaredError: 0.5472 - val_loss: 0.2994\n",
      "Epoch 44/100\n",
      "\u001b[1m363/363\u001b[0m \u001b[32m━━━━━━━━━━━━━━━━━━━━\u001b[0m\u001b[37m\u001b[0m \u001b[1m0s\u001b[0m 442us/step - RootMeanSquaredError: 0.5244 - loss: 0.2751 - val_RootMeanSquaredError: 0.5709 - val_loss: 0.3259\n",
      "Epoch 45/100\n",
      "\u001b[1m363/363\u001b[0m \u001b[32m━━━━━━━━━━━━━━━━━━━━\u001b[0m\u001b[37m\u001b[0m \u001b[1m0s\u001b[0m 395us/step - RootMeanSquaredError: 0.5244 - loss: 0.2751 - val_RootMeanSquaredError: 0.5770 - val_loss: 0.3329\n",
      "Epoch 46/100\n",
      "\u001b[1m363/363\u001b[0m \u001b[32m━━━━━━━━━━━━━━━━━━━━\u001b[0m\u001b[37m\u001b[0m \u001b[1m0s\u001b[0m 399us/step - RootMeanSquaredError: 0.5234 - loss: 0.2740 - val_RootMeanSquaredError: 0.6663 - val_loss: 0.4440\n",
      "Epoch 47/100\n",
      "\u001b[1m363/363\u001b[0m \u001b[32m━━━━━━━━━━━━━━━━━━━━\u001b[0m\u001b[37m\u001b[0m \u001b[1m0s\u001b[0m 392us/step - RootMeanSquaredError: 0.5228 - loss: 0.2734 - val_RootMeanSquaredError: 0.5764 - val_loss: 0.3323\n",
      "Epoch 48/100\n",
      "\u001b[1m363/363\u001b[0m \u001b[32m━━━━━━━━━━━━━━━━━━━━\u001b[0m\u001b[37m\u001b[0m \u001b[1m0s\u001b[0m 387us/step - RootMeanSquaredError: 0.5212 - loss: 0.2717 - val_RootMeanSquaredError: 0.5345 - val_loss: 0.2857\n",
      "Epoch 49/100\n",
      "\u001b[1m363/363\u001b[0m \u001b[32m━━━━━━━━━━━━━━━━━━━━\u001b[0m\u001b[37m\u001b[0m \u001b[1m0s\u001b[0m 378us/step - RootMeanSquaredError: 0.5203 - loss: 0.2708 - val_RootMeanSquaredError: 0.5367 - val_loss: 0.2880\n",
      "Epoch 50/100\n",
      "\u001b[1m363/363\u001b[0m \u001b[32m━━━━━━━━━━━━━━━━━━━━\u001b[0m\u001b[37m\u001b[0m \u001b[1m0s\u001b[0m 395us/step - RootMeanSquaredError: 0.5192 - loss: 0.2697 - val_RootMeanSquaredError: 0.5286 - val_loss: 0.2794\n",
      "Epoch 51/100\n",
      "\u001b[1m363/363\u001b[0m \u001b[32m━━━━━━━━━━━━━━━━━━━━\u001b[0m\u001b[37m\u001b[0m \u001b[1m0s\u001b[0m 383us/step - RootMeanSquaredError: 0.5182 - loss: 0.2686 - val_RootMeanSquaredError: 0.5286 - val_loss: 0.2794\n",
      "Epoch 52/100\n",
      "\u001b[1m363/363\u001b[0m \u001b[32m━━━━━━━━━━━━━━━━━━━━\u001b[0m\u001b[37m\u001b[0m \u001b[1m0s\u001b[0m 392us/step - RootMeanSquaredError: 0.5173 - loss: 0.2677 - val_RootMeanSquaredError: 0.5373 - val_loss: 0.2887\n",
      "Epoch 53/100\n",
      "\u001b[1m363/363\u001b[0m \u001b[32m━━━━━━━━━━━━━━━━━━━━\u001b[0m\u001b[37m\u001b[0m \u001b[1m0s\u001b[0m 445us/step - RootMeanSquaredError: 0.5169 - loss: 0.2672 - val_RootMeanSquaredError: 0.5381 - val_loss: 0.2895\n",
      "Epoch 54/100\n",
      "\u001b[1m363/363\u001b[0m \u001b[32m━━━━━━━━━━━━━━━━━━━━\u001b[0m\u001b[37m\u001b[0m \u001b[1m0s\u001b[0m 391us/step - RootMeanSquaredError: 0.5155 - loss: 0.2658 - val_RootMeanSquaredError: 0.5271 - val_loss: 0.2779\n",
      "Epoch 55/100\n",
      "\u001b[1m363/363\u001b[0m \u001b[32m━━━━━━━━━━━━━━━━━━━━\u001b[0m\u001b[37m\u001b[0m \u001b[1m0s\u001b[0m 384us/step - RootMeanSquaredError: 0.5149 - loss: 0.2652 - val_RootMeanSquaredError: 0.5395 - val_loss: 0.2911\n",
      "Epoch 56/100\n",
      "\u001b[1m363/363\u001b[0m \u001b[32m━━━━━━━━━━━━━━━━━━━━\u001b[0m\u001b[37m\u001b[0m \u001b[1m0s\u001b[0m 383us/step - RootMeanSquaredError: 0.5139 - loss: 0.2642 - val_RootMeanSquaredError: 0.5250 - val_loss: 0.2757\n",
      "Epoch 57/100\n",
      "\u001b[1m363/363\u001b[0m \u001b[32m━━━━━━━━━━━━━━━━━━━━\u001b[0m\u001b[37m\u001b[0m \u001b[1m0s\u001b[0m 386us/step - RootMeanSquaredError: 0.5134 - loss: 0.2636 - val_RootMeanSquaredError: 0.5652 - val_loss: 0.3195\n",
      "Epoch 58/100\n",
      "\u001b[1m363/363\u001b[0m \u001b[32m━━━━━━━━━━━━━━━━━━━━\u001b[0m\u001b[37m\u001b[0m \u001b[1m0s\u001b[0m 390us/step - RootMeanSquaredError: 0.5130 - loss: 0.2632 - val_RootMeanSquaredError: 0.6040 - val_loss: 0.3648\n",
      "Epoch 59/100\n",
      "\u001b[1m363/363\u001b[0m \u001b[32m━━━━━━━━━━━━━━━━━━━━\u001b[0m\u001b[37m\u001b[0m \u001b[1m0s\u001b[0m 389us/step - RootMeanSquaredError: 0.5137 - loss: 0.2640 - val_RootMeanSquaredError: 0.5679 - val_loss: 0.3225\n",
      "Epoch 60/100\n",
      "\u001b[1m363/363\u001b[0m \u001b[32m━━━━━━━━━━━━━━━━━━━━\u001b[0m\u001b[37m\u001b[0m \u001b[1m0s\u001b[0m 445us/step - RootMeanSquaredError: 0.5128 - loss: 0.2631 - val_RootMeanSquaredError: 0.6802 - val_loss: 0.4627\n",
      "Epoch 61/100\n",
      "\u001b[1m363/363\u001b[0m \u001b[32m━━━━━━━━━━━━━━━━━━━━\u001b[0m\u001b[37m\u001b[0m \u001b[1m0s\u001b[0m 385us/step - RootMeanSquaredError: 0.5127 - loss: 0.2629 - val_RootMeanSquaredError: 0.7007 - val_loss: 0.4909\n",
      "Epoch 62/100\n",
      "\u001b[1m363/363\u001b[0m \u001b[32m━━━━━━━━━━━━━━━━━━━━\u001b[0m\u001b[37m\u001b[0m \u001b[1m0s\u001b[0m 386us/step - RootMeanSquaredError: 0.5114 - loss: 0.2616 - val_RootMeanSquaredError: 0.8498 - val_loss: 0.7221\n",
      "Epoch 63/100\n",
      "\u001b[1m363/363\u001b[0m \u001b[32m━━━━━━━━━━━━━━━━━━━━\u001b[0m\u001b[37m\u001b[0m \u001b[1m0s\u001b[0m 397us/step - RootMeanSquaredError: 0.5127 - loss: 0.2630 - val_RootMeanSquaredError: 0.6755 - val_loss: 0.4563\n",
      "Epoch 64/100\n",
      "\u001b[1m363/363\u001b[0m \u001b[32m━━━━━━━━━━━━━━━━━━━━\u001b[0m\u001b[37m\u001b[0m \u001b[1m0s\u001b[0m 387us/step - RootMeanSquaredError: 0.5113 - loss: 0.2615 - val_RootMeanSquaredError: 0.7203 - val_loss: 0.5189\n",
      "Epoch 65/100\n",
      "\u001b[1m363/363\u001b[0m \u001b[32m━━━━━━━━━━━━━━━━━━━━\u001b[0m\u001b[37m\u001b[0m \u001b[1m0s\u001b[0m 395us/step - RootMeanSquaredError: 0.5109 - loss: 0.2611 - val_RootMeanSquaredError: 0.7512 - val_loss: 0.5642\n",
      "Epoch 66/100\n",
      "\u001b[1m363/363\u001b[0m \u001b[32m━━━━━━━━━━━━━━━━━━━━\u001b[0m\u001b[37m\u001b[0m \u001b[1m0s\u001b[0m 393us/step - RootMeanSquaredError: 0.5105 - loss: 0.2607 - val_RootMeanSquaredError: 0.8955 - val_loss: 0.8020\n",
      "Epoch 67/100\n",
      "\u001b[1m363/363\u001b[0m \u001b[32m━━━━━━━━━━━━━━━━━━━━\u001b[0m\u001b[37m\u001b[0m \u001b[1m0s\u001b[0m 437us/step - RootMeanSquaredError: 0.5128 - loss: 0.2630 - val_RootMeanSquaredError: 0.6521 - val_loss: 0.4252\n",
      "Epoch 68/100\n",
      "\u001b[1m363/363\u001b[0m \u001b[32m━━━━━━━━━━━━━━━━━━━━\u001b[0m\u001b[37m\u001b[0m \u001b[1m0s\u001b[0m 388us/step - RootMeanSquaredError: 0.5144 - loss: 0.2647 - val_RootMeanSquaredError: 0.6687 - val_loss: 0.4472\n",
      "Epoch 69/100\n",
      "\u001b[1m363/363\u001b[0m \u001b[32m━━━━━━━━━━━━━━━━━━━━\u001b[0m\u001b[37m\u001b[0m \u001b[1m0s\u001b[0m 384us/step - RootMeanSquaredError: 0.5240 - loss: 0.2748 - val_RootMeanSquaredError: 0.5590 - val_loss: 0.3125\n",
      "Epoch 70/100\n",
      "\u001b[1m363/363\u001b[0m \u001b[32m━━━━━━━━━━━━━━━━━━━━\u001b[0m\u001b[37m\u001b[0m \u001b[1m0s\u001b[0m 391us/step - RootMeanSquaredError: 0.5261 - loss: 0.2769 - val_RootMeanSquaredError: 1.1716 - val_loss: 1.3727\n",
      "Epoch 71/100\n",
      "\u001b[1m363/363\u001b[0m \u001b[32m━━━━━━━━━━━━━━━━━━━━\u001b[0m\u001b[37m\u001b[0m \u001b[1m0s\u001b[0m 390us/step - RootMeanSquaredError: 0.5189 - loss: 0.2694 - val_RootMeanSquaredError: 1.1949 - val_loss: 1.4279\n",
      "Epoch 72/100\n",
      "\u001b[1m363/363\u001b[0m \u001b[32m━━━━━━━━━━━━━━━━━━━━\u001b[0m\u001b[37m\u001b[0m \u001b[1m0s\u001b[0m 391us/step - RootMeanSquaredError: 0.5187 - loss: 0.2692 - val_RootMeanSquaredError: 1.5294 - val_loss: 2.3391\n",
      "Epoch 73/100\n",
      "\u001b[1m363/363\u001b[0m \u001b[32m━━━━━━━━━━━━━━━━━━━━\u001b[0m\u001b[37m\u001b[0m \u001b[1m0s\u001b[0m 383us/step - RootMeanSquaredError: 0.5205 - loss: 0.2711 - val_RootMeanSquaredError: 0.9485 - val_loss: 0.8996\n",
      "Epoch 74/100\n",
      "\u001b[1m363/363\u001b[0m \u001b[32m━━━━━━━━━━━━━━━━━━━━\u001b[0m\u001b[37m\u001b[0m \u001b[1m0s\u001b[0m 450us/step - RootMeanSquaredError: 0.5155 - loss: 0.2658 - val_RootMeanSquaredError: 1.4588 - val_loss: 2.1281\n",
      "Epoch 75/100\n",
      "\u001b[1m363/363\u001b[0m \u001b[32m━━━━━━━━━━━━━━━━━━━━\u001b[0m\u001b[37m\u001b[0m \u001b[1m0s\u001b[0m 404us/step - RootMeanSquaredError: 0.5189 - loss: 0.2694 - val_RootMeanSquaredError: 0.5283 - val_loss: 0.2791\n",
      "Epoch 76/100\n",
      "\u001b[1m363/363\u001b[0m \u001b[32m━━━━━━━━━━━━━━━━━━━━\u001b[0m\u001b[37m\u001b[0m \u001b[1m0s\u001b[0m 392us/step - RootMeanSquaredError: 0.5090 - loss: 0.2592 - val_RootMeanSquaredError: 0.5234 - val_loss: 0.2739\n",
      "Epoch 77/100\n",
      "\u001b[1m363/363\u001b[0m \u001b[32m━━━━━━━━━━━━━━━━━━━━\u001b[0m\u001b[37m\u001b[0m \u001b[1m0s\u001b[0m 394us/step - RootMeanSquaredError: 0.5069 - loss: 0.2570 - val_RootMeanSquaredError: 0.5222 - val_loss: 0.2727\n",
      "Epoch 78/100\n",
      "\u001b[1m363/363\u001b[0m \u001b[32m━━━━━━━━━━━━━━━━━━━━\u001b[0m\u001b[37m\u001b[0m \u001b[1m0s\u001b[0m 395us/step - RootMeanSquaredError: 0.5057 - loss: 0.2558 - val_RootMeanSquaredError: 0.5227 - val_loss: 0.2732\n",
      "Epoch 79/100\n",
      "\u001b[1m363/363\u001b[0m \u001b[32m━━━━━━━━━━━━━━━━━━━━\u001b[0m\u001b[37m\u001b[0m \u001b[1m0s\u001b[0m 394us/step - RootMeanSquaredError: 0.5046 - loss: 0.2547 - val_RootMeanSquaredError: 0.5233 - val_loss: 0.2739\n",
      "Epoch 80/100\n",
      "\u001b[1m363/363\u001b[0m \u001b[32m━━━━━━━━━━━━━━━━━━━━\u001b[0m\u001b[37m\u001b[0m \u001b[1m0s\u001b[0m 441us/step - RootMeanSquaredError: 0.5039 - loss: 0.2540 - val_RootMeanSquaredError: 0.5215 - val_loss: 0.2719\n",
      "Epoch 81/100\n",
      "\u001b[1m363/363\u001b[0m \u001b[32m━━━━━━━━━━━━━━━━━━━━\u001b[0m\u001b[37m\u001b[0m \u001b[1m0s\u001b[0m 397us/step - RootMeanSquaredError: 0.5031 - loss: 0.2532 - val_RootMeanSquaredError: 0.5246 - val_loss: 0.2752\n",
      "Epoch 82/100\n",
      "\u001b[1m363/363\u001b[0m \u001b[32m━━━━━━━━━━━━━━━━━━━━\u001b[0m\u001b[37m\u001b[0m \u001b[1m0s\u001b[0m 391us/step - RootMeanSquaredError: 0.5022 - loss: 0.2523 - val_RootMeanSquaredError: 0.5289 - val_loss: 0.2798\n",
      "Epoch 83/100\n",
      "\u001b[1m363/363\u001b[0m \u001b[32m━━━━━━━━━━━━━━━━━━━━\u001b[0m\u001b[37m\u001b[0m \u001b[1m0s\u001b[0m 389us/step - RootMeanSquaredError: 0.5023 - loss: 0.2523 - val_RootMeanSquaredError: 0.5691 - val_loss: 0.3238\n",
      "Epoch 84/100\n",
      "\u001b[1m363/363\u001b[0m \u001b[32m━━━━━━━━━━━━━━━━━━━━\u001b[0m\u001b[37m\u001b[0m \u001b[1m0s\u001b[0m 389us/step - RootMeanSquaredError: 0.5012 - loss: 0.2513 - val_RootMeanSquaredError: 0.5239 - val_loss: 0.2745\n",
      "Epoch 85/100\n",
      "\u001b[1m363/363\u001b[0m \u001b[32m━━━━━━━━━━━━━━━━━━━━\u001b[0m\u001b[37m\u001b[0m \u001b[1m0s\u001b[0m 455us/step - RootMeanSquaredError: 0.5013 - loss: 0.2514 - val_RootMeanSquaredError: 0.5237 - val_loss: 0.2743\n",
      "Epoch 86/100\n",
      "\u001b[1m363/363\u001b[0m \u001b[32m━━━━━━━━━━━━━━━━━━━━\u001b[0m\u001b[37m\u001b[0m \u001b[1m0s\u001b[0m 405us/step - RootMeanSquaredError: 0.5004 - loss: 0.2505 - val_RootMeanSquaredError: 0.5241 - val_loss: 0.2747\n",
      "Epoch 87/100\n",
      "\u001b[1m363/363\u001b[0m \u001b[32m━━━━━━━━━━━━━━━━━━━━\u001b[0m\u001b[37m\u001b[0m \u001b[1m0s\u001b[0m 384us/step - RootMeanSquaredError: 0.4994 - loss: 0.2494 - val_RootMeanSquaredError: 0.5212 - val_loss: 0.2717\n",
      "Epoch 88/100\n",
      "\u001b[1m363/363\u001b[0m \u001b[32m━━━━━━━━━━━━━━━━━━━━\u001b[0m\u001b[37m\u001b[0m \u001b[1m0s\u001b[0m 385us/step - RootMeanSquaredError: 0.4989 - loss: 0.2490 - val_RootMeanSquaredError: 0.5206 - val_loss: 0.2710\n",
      "Epoch 89/100\n",
      "\u001b[1m363/363\u001b[0m \u001b[32m━━━━━━━━━━━━━━━━━━━━\u001b[0m\u001b[37m\u001b[0m \u001b[1m0s\u001b[0m 376us/step - RootMeanSquaredError: 0.4984 - loss: 0.2485 - val_RootMeanSquaredError: 0.5491 - val_loss: 0.3015\n",
      "Epoch 90/100\n",
      "\u001b[1m363/363\u001b[0m \u001b[32m━━━━━━━━━━━━━━━━━━━━\u001b[0m\u001b[37m\u001b[0m \u001b[1m0s\u001b[0m 447us/step - RootMeanSquaredError: 0.4980 - loss: 0.2480 - val_RootMeanSquaredError: 0.5244 - val_loss: 0.2750\n",
      "Epoch 91/100\n",
      "\u001b[1m363/363\u001b[0m \u001b[32m━━━━━━━━━━━━━━━━━━━━\u001b[0m\u001b[37m\u001b[0m \u001b[1m0s\u001b[0m 375us/step - RootMeanSquaredError: 0.4978 - loss: 0.2479 - val_RootMeanSquaredError: 0.5267 - val_loss: 0.2774\n",
      "Epoch 92/100\n",
      "\u001b[1m363/363\u001b[0m \u001b[32m━━━━━━━━━━━━━━━━━━━━\u001b[0m\u001b[37m\u001b[0m \u001b[1m0s\u001b[0m 387us/step - RootMeanSquaredError: 0.4972 - loss: 0.2472 - val_RootMeanSquaredError: 0.5223 - val_loss: 0.2728\n",
      "Epoch 93/100\n",
      "\u001b[1m363/363\u001b[0m \u001b[32m━━━━━━━━━━━━━━━━━━━━\u001b[0m\u001b[37m\u001b[0m \u001b[1m0s\u001b[0m 395us/step - RootMeanSquaredError: 0.4967 - loss: 0.2468 - val_RootMeanSquaredError: 0.5240 - val_loss: 0.2746\n",
      "Epoch 94/100\n",
      "\u001b[1m363/363\u001b[0m \u001b[32m━━━━━━━━━━━━━━━━━━━━\u001b[0m\u001b[37m\u001b[0m \u001b[1m0s\u001b[0m 386us/step - RootMeanSquaredError: 0.4961 - loss: 0.2462 - val_RootMeanSquaredError: 0.5227 - val_loss: 0.2732\n",
      "Epoch 95/100\n",
      "\u001b[1m363/363\u001b[0m \u001b[32m━━━━━━━━━━━━━━━━━━━━\u001b[0m\u001b[37m\u001b[0m \u001b[1m0s\u001b[0m 442us/step - RootMeanSquaredError: 0.4960 - loss: 0.2461 - val_RootMeanSquaredError: 0.5229 - val_loss: 0.2735\n",
      "Epoch 96/100\n",
      "\u001b[1m363/363\u001b[0m \u001b[32m━━━━━━━━━━━━━━━━━━━━\u001b[0m\u001b[37m\u001b[0m \u001b[1m0s\u001b[0m 421us/step - RootMeanSquaredError: 0.4957 - loss: 0.2458 - val_RootMeanSquaredError: 0.5204 - val_loss: 0.2709\n",
      "Epoch 97/100\n",
      "\u001b[1m363/363\u001b[0m \u001b[32m━━━━━━━━━━━━━━━━━━━━\u001b[0m\u001b[37m\u001b[0m \u001b[1m0s\u001b[0m 398us/step - RootMeanSquaredError: 0.4952 - loss: 0.2453 - val_RootMeanSquaredError: 0.5228 - val_loss: 0.2733\n",
      "Epoch 98/100\n",
      "\u001b[1m363/363\u001b[0m \u001b[32m━━━━━━━━━━━━━━━━━━━━\u001b[0m\u001b[37m\u001b[0m \u001b[1m0s\u001b[0m 395us/step - RootMeanSquaredError: 0.4949 - loss: 0.2450 - val_RootMeanSquaredError: 0.5206 - val_loss: 0.2710\n",
      "Epoch 99/100\n",
      "\u001b[1m363/363\u001b[0m \u001b[32m━━━━━━━━━━━━━━━━━━━━\u001b[0m\u001b[37m\u001b[0m \u001b[1m0s\u001b[0m 444us/step - RootMeanSquaredError: 0.4944 - loss: 0.2444 - val_RootMeanSquaredError: 0.5570 - val_loss: 0.3103\n",
      "Epoch 100/100\n",
      "\u001b[1m363/363\u001b[0m \u001b[32m━━━━━━━━━━━━━━━━━━━━\u001b[0m\u001b[37m\u001b[0m \u001b[1m0s\u001b[0m 383us/step - RootMeanSquaredError: 0.4942 - loss: 0.2443 - val_RootMeanSquaredError: 0.5207 - val_loss: 0.2711\n"
     ]
    },
    {
     "name": "stdout",
     "output_type": "stream",
     "text": [
      "363/363 [==============================] - 0s 456us/step - loss: 0.2414 - root_mean_squared_error: 0.4913 - val_loss: 0.2693 - val_root_mean_squared_error: 0.5190\n",
      "Epoch 94/100\n",
      "363/363 [==============================] - 0s 454us/step - loss: 0.2411 - root_mean_squared_error: 0.4910 - val_loss: 0.3119 - val_root_mean_squared_error: 0.5585\n",
      "Epoch 95/100\n",
      "363/363 [==============================] - 0s 450us/step - loss: 0.2394 - root_mean_squared_error: 0.4893 - val_loss: 0.2605 - val_root_mean_squared_error: 0.5104\n",
      "Epoch 96/100\n",
      "363/363 [==============================] - 0s 456us/step - loss: 0.2404 - root_mean_squared_error: 0.4903 - val_loss: 0.2799 - val_root_mean_squared_error: 0.5290\n",
      "Epoch 97/100\n",
      "363/363 [==============================] - 0s 455us/step - loss: 0.2388 - root_mean_squared_error: 0.4887 - val_loss: 0.2799 - val_root_mean_squared_error: 0.5291\n",
      "Epoch 98/100\n",
      "363/363 [==============================] - 0s 456us/step - loss: 0.2395 - root_mean_squared_error: 0.4894 - val_loss: 0.2618 - val_root_mean_squared_error: 0.5117\n",
      "Epoch 99/100\n",
      "363/363 [==============================] - 0s 457us/step - loss: 0.2403 - root_mean_squared_error: 0.4902 - val_loss: 0.4135 - val_root_mean_squared_error: 0.6430\n",
      "Epoch 100/100\n",
      "363/363 [==============================] - 0s 453us/step - loss: 0.2404 - root_mean_squared_error: 0.4903 - val_loss: 0.2800 - val_root_mean_squared_error: 0.5292\n"
     ]
    }
   ],
   "source": [
    "# Train the model.\n",
    "history = model.fit(X_train, y_train, epochs=100, validation_data=(X_valid, y_valid))"
   ]
  },
  {
   "cell_type": "code",
   "execution_count": 14,
   "metadata": {
    "colab": {
     "base_uri": "https://localhost:8080/",
     "height": 451
    },
    "id": "Z95S4Gd0pn_b",
    "outputId": "2e9c2a7b-8e2c-4db3-e866-5094207097cd"
   },
   "outputs": [
    {
     "data": {
      "image/png": "[encoded data removed]",
      "text/plain": [
       "<Figure size 800x500 with 1 Axes>"
      ]
     },
     "metadata": {},
     "output_type": "display_data"
    }
   ],
   "source": [
    "# Show the learning curves.\n",
    "pd.DataFrame(history.history).plot(figsize=(8, 5))\n",
    "plt.grid(True)\n",
    "plt.gca().set_ylim(0, 1)\n",
    "plt.show()"
   ]
  },
  {
   "cell_type": "code",
   "execution_count": 15,
   "metadata": {
    "colab": {
     "base_uri": "https://localhost:8080/"
    },
    "id": "5JRECEHspn_b",
    "outputId": "f56ab8d5-1e28-41f8-d8f6-20afc8b20315"
   },
   "outputs": [
    {
     "name": "stdout",
     "output_type": "stream",
     "text": [
      "\u001b[1m162/162\u001b[0m \u001b[32m━━━━━━━━━━━━━━━━━━━━\u001b[0m\u001b[37m\u001b[0m \u001b[1m0s\u001b[0m 270us/step - RootMeanSquaredError: 0.5263 - loss: 0.2772\n"
     ]
    }
   ],
   "source": [
    "# Evaluate the model (outputs the MSE).\n",
    "loss = model.evaluate(X_test, y_test)"
   ]
  },
  {
   "cell_type": "markdown",
   "metadata": {
    "id": "iRdy1iKkpn_b"
   },
   "source": [
    "<b>Observation:</b><br/>\n",
    "If we multipy the RMSE with 10000, we get the RMSE expressed in USD."
   ]
  },
  {
   "cell_type": "code",
   "execution_count": 17,
   "metadata": {
    "colab": {
     "base_uri": "https://localhost:8080/"
    },
    "id": "DKD4KAmCpn_b",
    "outputId": "f14eafe6-dd07-4756-a013-9bc18b967712"
   },
   "outputs": [
    {
     "name": "stdout",
     "output_type": "stream",
     "text": [
      "\u001b[1m1/1\u001b[0m \u001b[32m━━━━━━━━━━━━━━━━━━━━\u001b[0m\u001b[37m\u001b[0m \u001b[1m0s\u001b[0m 24ms/step\n"
     ]
    },
    {
     "data": {
      "text/plain": [
       "array([[0.38304257],\n",
       "       [1.144096  ],\n",
       "       [4.680132  ]], dtype=float32)"
      ]
     },
     "execution_count": 17,
     "metadata": {},
     "output_type": "execute_result"
    }
   ],
   "source": [
    "# Make predictions for the first 3 instances in the test set.\n",
    "X_new = X_test[:3]\n",
    "y_pred = model.predict(X_new)\n",
    "y_pred"
   ]
  },
  {
   "cell_type": "code",
   "execution_count": 18,
   "metadata": {
    "colab": {
     "base_uri": "https://localhost:8080/"
    },
    "id": "62dYeO6Hpn_b",
    "outputId": "1528db3d-b0aa-4ca6-ab58-757ced54aee5"
   },
   "outputs": [
    {
     "data": {
      "text/plain": [
       "array([0.477  , 0.458  , 5.00001])"
      ]
     },
     "execution_count": 18,
     "metadata": {},
     "output_type": "execute_result"
    }
   ],
   "source": [
    "# Compare with the corresponding values target values\n",
    "y_test[:3]"
   ]
  },
  {
   "cell_type": "markdown",
   "metadata": {
    "id": "YLd5Uvpvpn_b"
   },
   "source": [
    "<b>Observation:</b><br/>\n",
    "The second prediction is very bad given the RMSE. The other two predictions are okay."
   ]
  }
 ],
 "metadata": {
  "colab": {
   "provenance": []
  },
  "kernelspec": {
   "display_name": "Python 3 (ipykernel)",
   "language": "python",
   "name": "python3"
  },
  "language_info": {
   "codemirror_mode": {
    "name": "ipython",
    "version": 3
   },
   "file_extension": ".py",
   "mimetype": "text/x-python",
   "name": "python",
   "nbconvert_exporter": "python",
   "pygments_lexer": "ipython3",
   "version": "3.12.4"
  },
  "nav_menu": {
   "height": "264px",
   "width": "369px"
  },
  "toc": {
   "navigate_menu": true,
   "number_sections": true,
   "sideBar": true,
   "threshold": 6,
   "toc_cell": false,
   "toc_section_display": "block",
   "toc_window_display": false
  }
 },
 "nbformat": 4,
 "nbformat_minor": 4
}
