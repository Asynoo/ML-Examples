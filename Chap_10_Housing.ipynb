{
 "cells": [
  {
   "cell_type": "markdown",
   "metadata": {
    "id": "8FCuv1Qkpn_V"
   },
   "source": [
    "# MLP Regressor trained with the California housing dataset"
   ]
  },
  {
   "cell_type": "markdown",
   "metadata": {
    "id": "HgZOnJ-vpn_X"
   },
   "source": [
    "## Setup"
   ]
  },
  {
   "cell_type": "code",
   "execution_count": 7,
   "metadata": {
    "id": "WizM4unQpn_Y"
   },
   "outputs": [],
   "source": [
    "# Common imports\n",
    "import sys\n",
    "import os\n",
    "import sklearn\n",
    "import numpy as np\n",
    "import pandas as pd\n",
    "import tensorflow as tf\n",
    "from tensorflow import keras\n",
    "\n",
    "# to make this notebook's output stable across runs\n",
    "np.random.seed(42)\n",
    "tf.random.set_seed(42)\n",
    "\n",
    "# To plot pretty figures\n",
    "%matplotlib inline\n",
    "import matplotlib.pyplot as plt\n",
    "\n",
    "# Import the SSL module and configure certificate verification to be optional to avoid SSLCertVerificationError.\n",
    "import ssl\n",
    "ssl.SSLContext.verify_mode = ssl.VerifyMode.CERT_OPTIONAL\n",
    "\n",
    "# Ignore useless warnings (see SciPy issue #5998)\n",
    "import warnings\n",
    "warnings.filterwarnings(action=\"ignore\", message=\"^internal gelsd\")"
   ]
  },
  {
   "cell_type": "markdown",
   "metadata": {
    "id": "dAhJ2A_Kpn_Z"
   },
   "source": [
    "## Load and split the dataset"
   ]
  },
  {
   "cell_type": "code",
   "execution_count": 9,
   "metadata": {
    "id": "mpOM30iDpn_Z"
   },
   "outputs": [],
   "source": [
    "from sklearn.datasets import fetch_california_housing\n",
    "from sklearn.model_selection import train_test_split\n",
    "from sklearn.preprocessing import StandardScaler\n",
    "from sklearn.preprocessing import MinMaxScaler\n",
    "\n",
    "housing = fetch_california_housing()\n",
    "\n",
    "X_train_full, X_test, y_train_full, y_test = train_test_split(housing.data, housing.target, random_state=42)\n",
    "X_train, X_valid, y_train, y_valid = train_test_split(X_train_full, y_train_full, random_state=42)\n",
    "\n",
    "# We could scale the features using SciKitLearn's StandardScaler or MinMaxScaler,\n",
    "# but in this example we will use the Keras Normalization Layer instead.\n",
    "#scaler = StandardScaler()\n",
    "#X_train = scaler.fit_transform(X_train)\n",
    "#X_valid = scaler.transform(X_valid)\n",
    "#X_test = scaler.transform(X_test)"
   ]
  },
  {
   "cell_type": "code",
   "execution_count": 10,
   "metadata": {
    "colab": {
     "base_uri": "https://localhost:8080/"
    },
    "id": "TLLbArbxpn_Z",
    "outputId": "ecd6ef0a-2dd6-418c-855e-81b347837a41"
   },
   "outputs": [
    {
     "data": {
      "text/plain": [
       "['MedInc',\n",
       " 'HouseAge',\n",
       " 'AveRooms',\n",
       " 'AveBedrms',\n",
       " 'Population',\n",
       " 'AveOccup',\n",
       " 'Latitude',\n",
       " 'Longitude']"
      ]
     },
     "execution_count": 10,
     "metadata": {},
     "output_type": "execute_result"
    }
   ],
   "source": [
    "# Display the feature names.\n",
    "# Note that this dataset is not exactly the same as the \"housing\" dataset used in chapter 2.\n",
    "# As a result, we cannot completely compare the RMSE of this model with the RMSEs of the\n",
    "# other models that we trained and tested using the dataset from chapter 2.\n",
    "housing.feature_names"
   ]
  },
  {
   "cell_type": "code",
   "execution_count": 11,
   "metadata": {
    "id": "qCXFVlM_pn_a"
   },
   "outputs": [],
   "source": [
    "# Display the number of rows and columns in the features array."
   ]
  },
  {
   "cell_type": "code",
   "execution_count": 12,
   "metadata": {
    "colab": {
     "base_uri": "https://localhost:8080/"
    },
    "id": "tn-TfIhfpn_a",
    "outputId": "a0e39fb4-210b-464b-9cd6-fa8ef6faaba0"
   },
   "outputs": [
    {
     "data": {
      "text/plain": [
       "(20640, 8)"
      ]
     },
     "execution_count": 12,
     "metadata": {},
     "output_type": "execute_result"
    }
   ],
   "source": [
    "housing.data.shape"
   ]
  },
  {
   "cell_type": "code",
   "execution_count": 13,
   "metadata": {},
   "outputs": [],
   "source": [
    "# Computing the mean median_house_value.\n",
    "# We can see that the target value have been scaled down by a factor of 100000\n",
    "# compared to the unprepared Housing dataset that we have used earlier."
   ]
  },
  {
   "cell_type": "code",
   "execution_count": 14,
   "metadata": {},
   "outputs": [
    {
     "data": {
      "text/plain": [
       "2.068558169089147"
      ]
     },
     "execution_count": 14,
     "metadata": {},
     "output_type": "execute_result"
    }
   ],
   "source": [
    "housing.target.mean()"
   ]
  },
  {
   "cell_type": "markdown",
   "metadata": {
    "id": "qhgtjhYQpn_a"
   },
   "source": [
    "## Build, compile, train and evaluate a model"
   ]
  },
  {
   "cell_type": "code",
   "execution_count": 16,
   "metadata": {
    "id": "UdQWyA2Qpn_b",
    "scrolled": true
   },
   "outputs": [],
   "source": [
    "# Build a model.\n",
    "# We don't need to specify an input layer, since we don't need to convert the input array.\n",
    "# For regression problems, we don't use an activation function in the output layer.\n",
    "\n",
    "# Keras Normalization Layer. See:\n",
    "#   https://www.tensorflow.org/api_docs/python/tf/keras/layers/Normalization\n",
    "norm_layer = keras.layers.Normalization()\n",
    "\n",
    "model = keras.models.Sequential([\n",
    "    norm_layer,\n",
    "    # hidden layers\n",
    "    keras.layers.Dense(50, activation=\"relu\"),\n",
    "    keras.layers.Dense(50, activation=\"relu\"),\n",
    "    keras.layers.Dense(50, activation=\"relu\"),\n",
    "    # output layer\n",
    "    keras.layers.Dense(1)\n",
    "])\n",
    "\n",
    "# Compile the model.\n",
    "# For regression problems, we use the \"mean_squared_error\" as loss function.\n",
    "model.compile(loss=\"mse\", optimizer=\"sgd\", metrics=[\"RootMeanSquaredError\"])\n",
    "\n",
    "# Normalize inputs.\n",
    "norm_layer.adapt(X_train)"
   ]
  },
  {
   "cell_type": "code",
   "execution_count": 17,
   "metadata": {
    "colab": {
     "base_uri": "https://localhost:8080/"
    },
    "id": "aXYx7GuUpn_b",
    "outputId": "92e60de2-c7f9-4276-c9ee-b4cdb8694082"
   },
   "outputs": [
    {
     "name": "stdout",
     "output_type": "stream",
     "text": [
      "Epoch 1/100\n",
      "\u001b[1m363/363\u001b[0m \u001b[32m━━━━━━━━━━━━━━━━━━━━\u001b[0m\u001b[37m\u001b[0m \u001b[1m1s\u001b[0m 545us/step - RootMeanSquaredError: 1.0051 - loss: 1.0815 - val_RootMeanSquaredError: 1.5138 - val_loss: 2.2915\n",
      "Epoch 2/100\n",
      "\u001b[1m363/363\u001b[0m \u001b[32m━━━━━━━━━━━━━━━━━━━━\u001b[0m\u001b[37m\u001b[0m \u001b[1m0s\u001b[0m 390us/step - RootMeanSquaredError: 0.6573 - loss: 0.4325 - val_RootMeanSquaredError: 1.3800 - val_loss: 1.9044\n",
      "Epoch 3/100\n",
      "\u001b[1m363/363\u001b[0m \u001b[32m━━━━━━━━━━━━━━━━━━━━\u001b[0m\u001b[37m\u001b[0m \u001b[1m0s\u001b[0m 336us/step - RootMeanSquaredError: 0.6278 - loss: 0.3943 - val_RootMeanSquaredError: 0.5961 - val_loss: 0.3554\n",
      "Epoch 4/100\n",
      "\u001b[1m363/363\u001b[0m \u001b[32m━━━━━━━━━━━━━━━━━━━━\u001b[0m\u001b[37m\u001b[0m \u001b[1m0s\u001b[0m 332us/step - RootMeanSquaredError: 0.6115 - loss: 0.3742 - val_RootMeanSquaredError: 0.6550 - val_loss: 0.4290\n",
      "Epoch 5/100\n",
      "\u001b[1m363/363\u001b[0m \u001b[32m━━━━━━━━━━━━━━━━━━━━\u001b[0m\u001b[37m\u001b[0m \u001b[1m0s\u001b[0m 346us/step - RootMeanSquaredError: 0.6030 - loss: 0.3639 - val_RootMeanSquaredError: 0.6034 - val_loss: 0.3641\n",
      "Epoch 6/100\n",
      "\u001b[1m363/363\u001b[0m \u001b[32m━━━━━━━━━━━━━━━━━━━━\u001b[0m\u001b[37m\u001b[0m \u001b[1m0s\u001b[0m 370us/step - RootMeanSquaredError: 0.5970 - loss: 0.3566 - val_RootMeanSquaredError: 0.5999 - val_loss: 0.3599\n",
      "Epoch 7/100\n",
      "\u001b[1m363/363\u001b[0m \u001b[32m━━━━━━━━━━━━━━━━━━━━\u001b[0m\u001b[37m\u001b[0m \u001b[1m0s\u001b[0m 345us/step - RootMeanSquaredError: 0.5916 - loss: 0.3502 - val_RootMeanSquaredError: 0.5830 - val_loss: 0.3399\n",
      "Epoch 8/100\n",
      "\u001b[1m363/363\u001b[0m \u001b[32m━━━━━━━━━━━━━━━━━━━━\u001b[0m\u001b[37m\u001b[0m \u001b[1m0s\u001b[0m 361us/step - RootMeanSquaredError: 0.5872 - loss: 0.3451 - val_RootMeanSquaredError: 0.5779 - val_loss: 0.3340\n",
      "Epoch 9/100\n",
      "\u001b[1m363/363\u001b[0m \u001b[32m━━━━━━━━━━━━━━━━━━━━\u001b[0m\u001b[37m\u001b[0m \u001b[1m0s\u001b[0m 387us/step - RootMeanSquaredError: 0.5836 - loss: 0.3408 - val_RootMeanSquaredError: 0.5782 - val_loss: 0.3343\n",
      "Epoch 10/100\n",
      "\u001b[1m363/363\u001b[0m \u001b[32m━━━━━━━━━━━━━━━━━━━━\u001b[0m\u001b[37m\u001b[0m \u001b[1m0s\u001b[0m 413us/step - RootMeanSquaredError: 0.5796 - loss: 0.3361 - val_RootMeanSquaredError: 0.5663 - val_loss: 0.3207\n",
      "Epoch 11/100\n",
      "\u001b[1m363/363\u001b[0m \u001b[32m━━━━━━━━━━━━━━━━━━━━\u001b[0m\u001b[37m\u001b[0m \u001b[1m0s\u001b[0m 324us/step - RootMeanSquaredError: 0.5764 - loss: 0.3324 - val_RootMeanSquaredError: 0.5722 - val_loss: 0.3274\n",
      "Epoch 12/100\n",
      "\u001b[1m363/363\u001b[0m \u001b[32m━━━━━━━━━━━━━━━━━━━━\u001b[0m\u001b[37m\u001b[0m \u001b[1m0s\u001b[0m 338us/step - RootMeanSquaredError: 0.5728 - loss: 0.3283 - val_RootMeanSquaredError: 0.5583 - val_loss: 0.3116\n",
      "Epoch 13/100\n",
      "\u001b[1m363/363\u001b[0m \u001b[32m━━━━━━━━━━━━━━━━━━━━\u001b[0m\u001b[37m\u001b[0m \u001b[1m0s\u001b[0m 362us/step - RootMeanSquaredError: 0.5697 - loss: 0.3247 - val_RootMeanSquaredError: 0.5641 - val_loss: 0.3182\n",
      "Epoch 14/100\n",
      "\u001b[1m363/363\u001b[0m \u001b[32m━━━━━━━━━━━━━━━━━━━━\u001b[0m\u001b[37m\u001b[0m \u001b[1m0s\u001b[0m 518us/step - RootMeanSquaredError: 0.5674 - loss: 0.3221 - val_RootMeanSquaredError: 0.5575 - val_loss: 0.3108\n",
      "Epoch 15/100\n",
      "\u001b[1m363/363\u001b[0m \u001b[32m━━━━━━━━━━━━━━━━━━━━\u001b[0m\u001b[37m\u001b[0m \u001b[1m0s\u001b[0m 443us/step - RootMeanSquaredError: 0.5646 - loss: 0.3189 - val_RootMeanSquaredError: 0.5512 - val_loss: 0.3038\n",
      "Epoch 16/100\n",
      "\u001b[1m363/363\u001b[0m \u001b[32m━━━━━━━━━━━━━━━━━━━━\u001b[0m\u001b[37m\u001b[0m \u001b[1m0s\u001b[0m 450us/step - RootMeanSquaredError: 0.5618 - loss: 0.3158 - val_RootMeanSquaredError: 0.5505 - val_loss: 0.3031\n",
      "Epoch 17/100\n",
      "\u001b[1m363/363\u001b[0m \u001b[32m━━━━━━━━━━━━━━━━━━━━\u001b[0m\u001b[37m\u001b[0m \u001b[1m0s\u001b[0m 431us/step - RootMeanSquaredError: 0.5590 - loss: 0.3126 - val_RootMeanSquaredError: 0.5514 - val_loss: 0.3040\n",
      "Epoch 18/100\n",
      "\u001b[1m363/363\u001b[0m \u001b[32m━━━━━━━━━━━━━━━━━━━━\u001b[0m\u001b[37m\u001b[0m \u001b[1m0s\u001b[0m 438us/step - RootMeanSquaredError: 0.5568 - loss: 0.3102 - val_RootMeanSquaredError: 0.5457 - val_loss: 0.2978\n",
      "Epoch 19/100\n",
      "\u001b[1m363/363\u001b[0m \u001b[32m━━━━━━━━━━━━━━━━━━━━\u001b[0m\u001b[37m\u001b[0m \u001b[1m0s\u001b[0m 396us/step - RootMeanSquaredError: 0.5540 - loss: 0.3071 - val_RootMeanSquaredError: 0.5569 - val_loss: 0.3101\n",
      "Epoch 20/100\n",
      "\u001b[1m363/363\u001b[0m \u001b[32m━━━━━━━━━━━━━━━━━━━━\u001b[0m\u001b[37m\u001b[0m \u001b[1m0s\u001b[0m 406us/step - RootMeanSquaredError: 0.5525 - loss: 0.3054 - val_RootMeanSquaredError: 0.5464 - val_loss: 0.2985\n",
      "Epoch 21/100\n",
      "\u001b[1m363/363\u001b[0m \u001b[32m━━━━━━━━━━━━━━━━━━━━\u001b[0m\u001b[37m\u001b[0m \u001b[1m0s\u001b[0m 425us/step - RootMeanSquaredError: 0.5499 - loss: 0.3026 - val_RootMeanSquaredError: 0.5456 - val_loss: 0.2976\n",
      "Epoch 22/100\n",
      "\u001b[1m363/363\u001b[0m \u001b[32m━━━━━━━━━━━━━━━━━━━━\u001b[0m\u001b[37m\u001b[0m \u001b[1m0s\u001b[0m 406us/step - RootMeanSquaredError: 0.5479 - loss: 0.3003 - val_RootMeanSquaredError: 0.5420 - val_loss: 0.2937\n",
      "Epoch 23/100\n",
      "\u001b[1m363/363\u001b[0m \u001b[32m━━━━━━━━━━━━━━━━━━━━\u001b[0m\u001b[37m\u001b[0m \u001b[1m0s\u001b[0m 395us/step - RootMeanSquaredError: 0.5456 - loss: 0.2977 - val_RootMeanSquaredError: 0.5427 - val_loss: 0.2946\n",
      "Epoch 24/100\n",
      "\u001b[1m363/363\u001b[0m \u001b[32m━━━━━━━━━━━━━━━━━━━━\u001b[0m\u001b[37m\u001b[0m \u001b[1m0s\u001b[0m 395us/step - RootMeanSquaredError: 0.5440 - loss: 0.2960 - val_RootMeanSquaredError: 0.5398 - val_loss: 0.2913\n",
      "Epoch 25/100\n",
      "\u001b[1m363/363\u001b[0m \u001b[32m━━━━━━━━━━━━━━━━━━━━\u001b[0m\u001b[37m\u001b[0m \u001b[1m0s\u001b[0m 393us/step - RootMeanSquaredError: 0.5420 - loss: 0.2938 - val_RootMeanSquaredError: 0.5384 - val_loss: 0.2898\n",
      "Epoch 26/100\n",
      "\u001b[1m363/363\u001b[0m \u001b[32m━━━━━━━━━━━━━━━━━━━━\u001b[0m\u001b[37m\u001b[0m \u001b[1m0s\u001b[0m 356us/step - RootMeanSquaredError: 0.5405 - loss: 0.2923 - val_RootMeanSquaredError: 0.5606 - val_loss: 0.3143\n",
      "Epoch 27/100\n",
      "\u001b[1m363/363\u001b[0m \u001b[32m━━━━━━━━━━━━━━━━━━━━\u001b[0m\u001b[37m\u001b[0m \u001b[1m0s\u001b[0m 387us/step - RootMeanSquaredError: 0.5399 - loss: 0.2916 - val_RootMeanSquaredError: 0.5457 - val_loss: 0.2978\n",
      "Epoch 28/100\n",
      "\u001b[1m363/363\u001b[0m \u001b[32m━━━━━━━━━━━━━━━━━━━━\u001b[0m\u001b[37m\u001b[0m \u001b[1m0s\u001b[0m 333us/step - RootMeanSquaredError: 0.5381 - loss: 0.2897 - val_RootMeanSquaredError: 0.5489 - val_loss: 0.3013\n",
      "Epoch 29/100\n",
      "\u001b[1m363/363\u001b[0m \u001b[32m━━━━━━━━━━━━━━━━━━━━\u001b[0m\u001b[37m\u001b[0m \u001b[1m0s\u001b[0m 365us/step - RootMeanSquaredError: 0.5368 - loss: 0.2882 - val_RootMeanSquaredError: 0.5354 - val_loss: 0.2866\n",
      "Epoch 30/100\n",
      "\u001b[1m363/363\u001b[0m \u001b[32m━━━━━━━━━━━━━━━━━━━━\u001b[0m\u001b[37m\u001b[0m \u001b[1m0s\u001b[0m 359us/step - RootMeanSquaredError: 0.5355 - loss: 0.2869 - val_RootMeanSquaredError: 0.5761 - val_loss: 0.3319\n",
      "Epoch 31/100\n",
      "\u001b[1m363/363\u001b[0m \u001b[32m━━━━━━━━━━━━━━━━━━━━\u001b[0m\u001b[37m\u001b[0m \u001b[1m0s\u001b[0m 383us/step - RootMeanSquaredError: 0.5349 - loss: 0.2862 - val_RootMeanSquaredError: 0.6979 - val_loss: 0.4870\n",
      "Epoch 32/100\n",
      "\u001b[1m363/363\u001b[0m \u001b[32m━━━━━━━━━━━━━━━━━━━━\u001b[0m\u001b[37m\u001b[0m \u001b[1m0s\u001b[0m 399us/step - RootMeanSquaredError: 0.5340 - loss: 0.2852 - val_RootMeanSquaredError: 0.6518 - val_loss: 0.4249\n",
      "Epoch 33/100\n",
      "\u001b[1m363/363\u001b[0m \u001b[32m━━━━━━━━━━━━━━━━━━━━\u001b[0m\u001b[37m\u001b[0m \u001b[1m0s\u001b[0m 396us/step - RootMeanSquaredError: 0.5343 - loss: 0.2855 - val_RootMeanSquaredError: 0.6790 - val_loss: 0.4611\n",
      "Epoch 34/100\n",
      "\u001b[1m363/363\u001b[0m \u001b[32m━━━━━━━━━━━━━━━━━━━━\u001b[0m\u001b[37m\u001b[0m \u001b[1m0s\u001b[0m 380us/step - RootMeanSquaredError: 0.5332 - loss: 0.2844 - val_RootMeanSquaredError: 0.7700 - val_loss: 0.5930\n",
      "Epoch 35/100\n",
      "\u001b[1m363/363\u001b[0m \u001b[32m━━━━━━━━━━━━━━━━━━━━\u001b[0m\u001b[37m\u001b[0m \u001b[1m0s\u001b[0m 415us/step - RootMeanSquaredError: 0.5342 - loss: 0.2854 - val_RootMeanSquaredError: 0.7699 - val_loss: 0.5927\n",
      "Epoch 36/100\n",
      "\u001b[1m363/363\u001b[0m \u001b[32m━━━━━━━━━━━━━━━━━━━━\u001b[0m\u001b[37m\u001b[0m \u001b[1m0s\u001b[0m 401us/step - RootMeanSquaredError: 0.5318 - loss: 0.2829 - val_RootMeanSquaredError: 0.5564 - val_loss: 0.3096\n",
      "Epoch 37/100\n",
      "\u001b[1m363/363\u001b[0m \u001b[32m━━━━━━━━━━━━━━━━━━━━\u001b[0m\u001b[37m\u001b[0m \u001b[1m0s\u001b[0m 395us/step - RootMeanSquaredError: 0.5300 - loss: 0.2809 - val_RootMeanSquaredError: 0.5329 - val_loss: 0.2840\n",
      "Epoch 38/100\n",
      "\u001b[1m363/363\u001b[0m \u001b[32m━━━━━━━━━━━━━━━━━━━━\u001b[0m\u001b[37m\u001b[0m \u001b[1m0s\u001b[0m 440us/step - RootMeanSquaredError: 0.5284 - loss: 0.2793 - val_RootMeanSquaredError: 0.5320 - val_loss: 0.2830\n",
      "Epoch 39/100\n",
      "\u001b[1m363/363\u001b[0m \u001b[32m━━━━━━━━━━━━━━━━━━━━\u001b[0m\u001b[37m\u001b[0m \u001b[1m0s\u001b[0m 439us/step - RootMeanSquaredError: 0.5275 - loss: 0.2783 - val_RootMeanSquaredError: 0.5310 - val_loss: 0.2819\n",
      "Epoch 40/100\n",
      "\u001b[1m363/363\u001b[0m \u001b[32m━━━━━━━━━━━━━━━━━━━━\u001b[0m\u001b[37m\u001b[0m \u001b[1m0s\u001b[0m 428us/step - RootMeanSquaredError: 0.5266 - loss: 0.2774 - val_RootMeanSquaredError: 0.5304 - val_loss: 0.2813\n",
      "Epoch 41/100\n",
      "\u001b[1m363/363\u001b[0m \u001b[32m━━━━━━━━━━━━━━━━━━━━\u001b[0m\u001b[37m\u001b[0m \u001b[1m0s\u001b[0m 507us/step - RootMeanSquaredError: 0.5256 - loss: 0.2763 - val_RootMeanSquaredError: 0.5301 - val_loss: 0.2810\n",
      "Epoch 42/100\n",
      "\u001b[1m363/363\u001b[0m \u001b[32m━━━━━━━━━━━━━━━━━━━━\u001b[0m\u001b[37m\u001b[0m \u001b[1m0s\u001b[0m 433us/step - RootMeanSquaredError: 0.5250 - loss: 0.2757 - val_RootMeanSquaredError: 0.5299 - val_loss: 0.2808\n",
      "Epoch 43/100\n",
      "\u001b[1m363/363\u001b[0m \u001b[32m━━━━━━━━━━━━━━━━━━━━\u001b[0m\u001b[37m\u001b[0m \u001b[1m0s\u001b[0m 405us/step - RootMeanSquaredError: 0.5241 - loss: 0.2747 - val_RootMeanSquaredError: 0.5291 - val_loss: 0.2800\n",
      "Epoch 44/100\n",
      "\u001b[1m363/363\u001b[0m \u001b[32m━━━━━━━━━━━━━━━━━━━━\u001b[0m\u001b[37m\u001b[0m \u001b[1m0s\u001b[0m 418us/step - RootMeanSquaredError: 0.5236 - loss: 0.2742 - val_RootMeanSquaredError: 0.5292 - val_loss: 0.2801\n",
      "Epoch 45/100\n",
      "\u001b[1m363/363\u001b[0m \u001b[32m━━━━━━━━━━━━━━━━━━━━\u001b[0m\u001b[37m\u001b[0m \u001b[1m0s\u001b[0m 406us/step - RootMeanSquaredError: 0.5227 - loss: 0.2733 - val_RootMeanSquaredError: 0.5292 - val_loss: 0.2801\n",
      "Epoch 46/100\n",
      "\u001b[1m363/363\u001b[0m \u001b[32m━━━━━━━━━━━━━━━━━━━━\u001b[0m\u001b[37m\u001b[0m \u001b[1m0s\u001b[0m 413us/step - RootMeanSquaredError: 0.5220 - loss: 0.2725 - val_RootMeanSquaredError: 0.5290 - val_loss: 0.2799\n",
      "Epoch 47/100\n",
      "\u001b[1m363/363\u001b[0m \u001b[32m━━━━━━━━━━━━━━━━━━━━\u001b[0m\u001b[37m\u001b[0m \u001b[1m0s\u001b[0m 447us/step - RootMeanSquaredError: 0.5216 - loss: 0.2721 - val_RootMeanSquaredError: 0.5293 - val_loss: 0.2802\n",
      "Epoch 48/100\n",
      "\u001b[1m363/363\u001b[0m \u001b[32m━━━━━━━━━━━━━━━━━━━━\u001b[0m\u001b[37m\u001b[0m \u001b[1m0s\u001b[0m 419us/step - RootMeanSquaredError: 0.5208 - loss: 0.2713 - val_RootMeanSquaredError: 0.5284 - val_loss: 0.2793\n",
      "Epoch 49/100\n",
      "\u001b[1m363/363\u001b[0m \u001b[32m━━━━━━━━━━━━━━━━━━━━\u001b[0m\u001b[37m\u001b[0m \u001b[1m0s\u001b[0m 414us/step - RootMeanSquaredError: 0.5204 - loss: 0.2708 - val_RootMeanSquaredError: 0.5283 - val_loss: 0.2791\n",
      "Epoch 50/100\n",
      "\u001b[1m363/363\u001b[0m \u001b[32m━━━━━━━━━━━━━━━━━━━━\u001b[0m\u001b[37m\u001b[0m \u001b[1m0s\u001b[0m 420us/step - RootMeanSquaredError: 0.5194 - loss: 0.2699 - val_RootMeanSquaredError: 0.5283 - val_loss: 0.2791\n",
      "Epoch 51/100\n",
      "\u001b[1m363/363\u001b[0m \u001b[32m━━━━━━━━━━━━━━━━━━━━\u001b[0m\u001b[37m\u001b[0m \u001b[1m0s\u001b[0m 421us/step - RootMeanSquaredError: 0.5188 - loss: 0.2692 - val_RootMeanSquaredError: 0.5297 - val_loss: 0.2806\n",
      "Epoch 52/100\n",
      "\u001b[1m363/363\u001b[0m \u001b[32m━━━━━━━━━━━━━━━━━━━━\u001b[0m\u001b[37m\u001b[0m \u001b[1m0s\u001b[0m 443us/step - RootMeanSquaredError: 0.5183 - loss: 0.2687 - val_RootMeanSquaredError: 0.5277 - val_loss: 0.2785\n",
      "Epoch 53/100\n",
      "\u001b[1m363/363\u001b[0m \u001b[32m━━━━━━━━━━━━━━━━━━━━\u001b[0m\u001b[37m\u001b[0m \u001b[1m0s\u001b[0m 430us/step - RootMeanSquaredError: 0.5177 - loss: 0.2680 - val_RootMeanSquaredError: 0.5304 - val_loss: 0.2813\n",
      "Epoch 54/100\n",
      "\u001b[1m363/363\u001b[0m \u001b[32m━━━━━━━━━━━━━━━━━━━━\u001b[0m\u001b[37m\u001b[0m \u001b[1m0s\u001b[0m 452us/step - RootMeanSquaredError: 0.5172 - loss: 0.2676 - val_RootMeanSquaredError: 0.5276 - val_loss: 0.2784\n",
      "Epoch 55/100\n",
      "\u001b[1m363/363\u001b[0m \u001b[32m━━━━━━━━━━━━━━━━━━━━\u001b[0m\u001b[37m\u001b[0m \u001b[1m0s\u001b[0m 401us/step - RootMeanSquaredError: 0.5168 - loss: 0.2672 - val_RootMeanSquaredError: 0.5288 - val_loss: 0.2796\n",
      "Epoch 56/100\n",
      "\u001b[1m363/363\u001b[0m \u001b[32m━━━━━━━━━━━━━━━━━━━━\u001b[0m\u001b[37m\u001b[0m \u001b[1m0s\u001b[0m 431us/step - RootMeanSquaredError: 0.5160 - loss: 0.2663 - val_RootMeanSquaredError: 0.5279 - val_loss: 0.2787\n",
      "Epoch 57/100\n",
      "\u001b[1m363/363\u001b[0m \u001b[32m━━━━━━━━━━━━━━━━━━━━\u001b[0m\u001b[37m\u001b[0m \u001b[1m0s\u001b[0m 453us/step - RootMeanSquaredError: 0.5154 - loss: 0.2657 - val_RootMeanSquaredError: 0.5284 - val_loss: 0.2792\n",
      "Epoch 58/100\n",
      "\u001b[1m363/363\u001b[0m \u001b[32m━━━━━━━━━━━━━━━━━━━━\u001b[0m\u001b[37m\u001b[0m \u001b[1m0s\u001b[0m 414us/step - RootMeanSquaredError: 0.5152 - loss: 0.2654 - val_RootMeanSquaredError: 0.5278 - val_loss: 0.2785\n",
      "Epoch 59/100\n",
      "\u001b[1m363/363\u001b[0m \u001b[32m━━━━━━━━━━━━━━━━━━━━\u001b[0m\u001b[37m\u001b[0m \u001b[1m0s\u001b[0m 360us/step - RootMeanSquaredError: 0.5144 - loss: 0.2647 - val_RootMeanSquaredError: 0.5300 - val_loss: 0.2809\n",
      "Epoch 60/100\n",
      "\u001b[1m363/363\u001b[0m \u001b[32m━━━━━━━━━━━━━━━━━━━━\u001b[0m\u001b[37m\u001b[0m \u001b[1m0s\u001b[0m 439us/step - RootMeanSquaredError: 0.5139 - loss: 0.2642 - val_RootMeanSquaredError: 0.5276 - val_loss: 0.2784\n",
      "Epoch 61/100\n",
      "\u001b[1m363/363\u001b[0m \u001b[32m━━━━━━━━━━━━━━━━━━━━\u001b[0m\u001b[37m\u001b[0m \u001b[1m0s\u001b[0m 488us/step - RootMeanSquaredError: 0.5135 - loss: 0.2637 - val_RootMeanSquaredError: 0.5343 - val_loss: 0.2855\n",
      "Epoch 62/100\n",
      "\u001b[1m363/363\u001b[0m \u001b[32m━━━━━━━━━━━━━━━━━━━━\u001b[0m\u001b[37m\u001b[0m \u001b[1m0s\u001b[0m 484us/step - RootMeanSquaredError: 0.5130 - loss: 0.2632 - val_RootMeanSquaredError: 0.5248 - val_loss: 0.2754\n",
      "Epoch 63/100\n",
      "\u001b[1m363/363\u001b[0m \u001b[32m━━━━━━━━━━━━━━━━━━━━\u001b[0m\u001b[37m\u001b[0m \u001b[1m0s\u001b[0m 449us/step - RootMeanSquaredError: 0.5123 - loss: 0.2625 - val_RootMeanSquaredError: 0.5290 - val_loss: 0.2798\n",
      "Epoch 64/100\n",
      "\u001b[1m363/363\u001b[0m \u001b[32m━━━━━━━━━━━━━━━━━━━━\u001b[0m\u001b[37m\u001b[0m \u001b[1m0s\u001b[0m 373us/step - RootMeanSquaredError: 0.5118 - loss: 0.2620 - val_RootMeanSquaredError: 0.5273 - val_loss: 0.2780\n",
      "Epoch 65/100\n",
      "\u001b[1m363/363\u001b[0m \u001b[32m━━━━━━━━━━━━━━━━━━━━\u001b[0m\u001b[37m\u001b[0m \u001b[1m0s\u001b[0m 371us/step - RootMeanSquaredError: 0.5115 - loss: 0.2617 - val_RootMeanSquaredError: 0.5340 - val_loss: 0.2852\n",
      "Epoch 66/100\n",
      "\u001b[1m363/363\u001b[0m \u001b[32m━━━━━━━━━━━━━━━━━━━━\u001b[0m\u001b[37m\u001b[0m \u001b[1m0s\u001b[0m 422us/step - RootMeanSquaredError: 0.5116 - loss: 0.2618 - val_RootMeanSquaredError: 0.5245 - val_loss: 0.2751\n",
      "Epoch 67/100\n",
      "\u001b[1m363/363\u001b[0m \u001b[32m━━━━━━━━━━━━━━━━━━━━\u001b[0m\u001b[37m\u001b[0m \u001b[1m0s\u001b[0m 426us/step - RootMeanSquaredError: 0.5106 - loss: 0.2608 - val_RootMeanSquaredError: 0.5289 - val_loss: 0.2797\n",
      "Epoch 68/100\n",
      "\u001b[1m363/363\u001b[0m \u001b[32m━━━━━━━━━━━━━━━━━━━━\u001b[0m\u001b[37m\u001b[0m \u001b[1m0s\u001b[0m 354us/step - RootMeanSquaredError: 0.5104 - loss: 0.2605 - val_RootMeanSquaredError: 0.5249 - val_loss: 0.2755\n",
      "Epoch 69/100\n",
      "\u001b[1m363/363\u001b[0m \u001b[32m━━━━━━━━━━━━━━━━━━━━\u001b[0m\u001b[37m\u001b[0m \u001b[1m0s\u001b[0m 397us/step - RootMeanSquaredError: 0.5099 - loss: 0.2600 - val_RootMeanSquaredError: 0.5306 - val_loss: 0.2815\n",
      "Epoch 70/100\n",
      "\u001b[1m363/363\u001b[0m \u001b[32m━━━━━━━━━━━━━━━━━━━━\u001b[0m\u001b[37m\u001b[0m \u001b[1m0s\u001b[0m 372us/step - RootMeanSquaredError: 0.5101 - loss: 0.2603 - val_RootMeanSquaredError: 0.5240 - val_loss: 0.2746\n",
      "Epoch 71/100\n",
      "\u001b[1m363/363\u001b[0m \u001b[32m━━━━━━━━━━━━━━━━━━━━\u001b[0m\u001b[37m\u001b[0m \u001b[1m0s\u001b[0m 356us/step - RootMeanSquaredError: 0.5089 - loss: 0.2590 - val_RootMeanSquaredError: 0.5292 - val_loss: 0.2801\n",
      "Epoch 72/100\n",
      "\u001b[1m363/363\u001b[0m \u001b[32m━━━━━━━━━━━━━━━━━━━━\u001b[0m\u001b[37m\u001b[0m \u001b[1m0s\u001b[0m 369us/step - RootMeanSquaredError: 0.5086 - loss: 0.2587 - val_RootMeanSquaredError: 0.5245 - val_loss: 0.2751\n",
      "Epoch 73/100\n",
      "\u001b[1m363/363\u001b[0m \u001b[32m━━━━━━━━━━━━━━━━━━━━\u001b[0m\u001b[37m\u001b[0m \u001b[1m0s\u001b[0m 380us/step - RootMeanSquaredError: 0.5081 - loss: 0.2582 - val_RootMeanSquaredError: 0.5310 - val_loss: 0.2819\n",
      "Epoch 74/100\n",
      "\u001b[1m363/363\u001b[0m \u001b[32m━━━━━━━━━━━━━━━━━━━━\u001b[0m\u001b[37m\u001b[0m \u001b[1m0s\u001b[0m 351us/step - RootMeanSquaredError: 0.5080 - loss: 0.2581 - val_RootMeanSquaredError: 0.5226 - val_loss: 0.2731\n",
      "Epoch 75/100\n",
      "\u001b[1m363/363\u001b[0m \u001b[32m━━━━━━━━━━━━━━━━━━━━\u001b[0m\u001b[37m\u001b[0m \u001b[1m0s\u001b[0m 348us/step - RootMeanSquaredError: 0.5072 - loss: 0.2573 - val_RootMeanSquaredError: 0.5334 - val_loss: 0.2845\n",
      "Epoch 76/100\n",
      "\u001b[1m363/363\u001b[0m \u001b[32m━━━━━━━━━━━━━━━━━━━━\u001b[0m\u001b[37m\u001b[0m \u001b[1m0s\u001b[0m 352us/step - RootMeanSquaredError: 0.5071 - loss: 0.2572 - val_RootMeanSquaredError: 0.5217 - val_loss: 0.2722\n",
      "Epoch 77/100\n",
      "\u001b[1m363/363\u001b[0m \u001b[32m━━━━━━━━━━━━━━━━━━━━\u001b[0m\u001b[37m\u001b[0m \u001b[1m0s\u001b[0m 446us/step - RootMeanSquaredError: 0.5063 - loss: 0.2564 - val_RootMeanSquaredError: 0.5288 - val_loss: 0.2797\n",
      "Epoch 78/100\n",
      "\u001b[1m363/363\u001b[0m \u001b[32m━━━━━━━━━━━━━━━━━━━━\u001b[0m\u001b[37m\u001b[0m \u001b[1m0s\u001b[0m 426us/step - RootMeanSquaredError: 0.5062 - loss: 0.2563 - val_RootMeanSquaredError: 0.5219 - val_loss: 0.2724\n",
      "Epoch 79/100\n",
      "\u001b[1m363/363\u001b[0m \u001b[32m━━━━━━━━━━━━━━━━━━━━\u001b[0m\u001b[37m\u001b[0m \u001b[1m0s\u001b[0m 354us/step - RootMeanSquaredError: 0.5053 - loss: 0.2554 - val_RootMeanSquaredError: 0.5229 - val_loss: 0.2735\n",
      "Epoch 80/100\n",
      "\u001b[1m363/363\u001b[0m \u001b[32m━━━━━━━━━━━━━━━━━━━━\u001b[0m\u001b[37m\u001b[0m \u001b[1m0s\u001b[0m 376us/step - RootMeanSquaredError: 0.5051 - loss: 0.2551 - val_RootMeanSquaredError: 0.5215 - val_loss: 0.2720\n",
      "Epoch 81/100\n",
      "\u001b[1m363/363\u001b[0m \u001b[32m━━━━━━━━━━━━━━━━━━━━\u001b[0m\u001b[37m\u001b[0m \u001b[1m0s\u001b[0m 412us/step - RootMeanSquaredError: 0.5045 - loss: 0.2545 - val_RootMeanSquaredError: 0.5225 - val_loss: 0.2730\n",
      "Epoch 82/100\n",
      "\u001b[1m363/363\u001b[0m \u001b[32m━━━━━━━━━━━━━━━━━━━━\u001b[0m\u001b[37m\u001b[0m \u001b[1m0s\u001b[0m 442us/step - RootMeanSquaredError: 0.5042 - loss: 0.2543 - val_RootMeanSquaredError: 0.5211 - val_loss: 0.2715\n",
      "Epoch 83/100\n",
      "\u001b[1m363/363\u001b[0m \u001b[32m━━━━━━━━━━━━━━━━━━━━\u001b[0m\u001b[37m\u001b[0m \u001b[1m0s\u001b[0m 412us/step - RootMeanSquaredError: 0.5035 - loss: 0.2535 - val_RootMeanSquaredError: 0.5217 - val_loss: 0.2722\n",
      "Epoch 84/100\n",
      "\u001b[1m363/363\u001b[0m \u001b[32m━━━━━━━━━━━━━━━━━━━━\u001b[0m\u001b[37m\u001b[0m \u001b[1m0s\u001b[0m 447us/step - RootMeanSquaredError: 0.5034 - loss: 0.2534 - val_RootMeanSquaredError: 0.5219 - val_loss: 0.2723\n",
      "Epoch 85/100\n",
      "\u001b[1m363/363\u001b[0m \u001b[32m━━━━━━━━━━━━━━━━━━━━\u001b[0m\u001b[37m\u001b[0m \u001b[1m0s\u001b[0m 437us/step - RootMeanSquaredError: 0.5028 - loss: 0.2528 - val_RootMeanSquaredError: 0.5220 - val_loss: 0.2725\n",
      "Epoch 86/100\n",
      "\u001b[1m363/363\u001b[0m \u001b[32m━━━━━━━━━━━━━━━━━━━━\u001b[0m\u001b[37m\u001b[0m \u001b[1m0s\u001b[0m 447us/step - RootMeanSquaredError: 0.5027 - loss: 0.2527 - val_RootMeanSquaredError: 0.5251 - val_loss: 0.2757\n",
      "Epoch 87/100\n",
      "\u001b[1m363/363\u001b[0m \u001b[32m━━━━━━━━━━━━━━━━━━━━\u001b[0m\u001b[37m\u001b[0m \u001b[1m0s\u001b[0m 420us/step - RootMeanSquaredError: 0.5022 - loss: 0.2522 - val_RootMeanSquaredError: 0.5207 - val_loss: 0.2711\n",
      "Epoch 88/100\n",
      "\u001b[1m363/363\u001b[0m \u001b[32m━━━━━━━━━━━━━━━━━━━━\u001b[0m\u001b[37m\u001b[0m \u001b[1m0s\u001b[0m 439us/step - RootMeanSquaredError: 0.5022 - loss: 0.2522 - val_RootMeanSquaredError: 0.5332 - val_loss: 0.2843\n",
      "Epoch 89/100\n",
      "\u001b[1m363/363\u001b[0m \u001b[32m━━━━━━━━━━━━━━━━━━━━\u001b[0m\u001b[37m\u001b[0m \u001b[1m0s\u001b[0m 413us/step - RootMeanSquaredError: 0.5017 - loss: 0.2518 - val_RootMeanSquaredError: 0.5207 - val_loss: 0.2712\n",
      "Epoch 90/100\n",
      "\u001b[1m363/363\u001b[0m \u001b[32m━━━━━━━━━━━━━━━━━━━━\u001b[0m\u001b[37m\u001b[0m \u001b[1m0s\u001b[0m 431us/step - RootMeanSquaredError: 0.5016 - loss: 0.2516 - val_RootMeanSquaredError: 0.5403 - val_loss: 0.2919\n",
      "Epoch 91/100\n",
      "\u001b[1m363/363\u001b[0m \u001b[32m━━━━━━━━━━━━━━━━━━━━\u001b[0m\u001b[37m\u001b[0m \u001b[1m0s\u001b[0m 451us/step - RootMeanSquaredError: 0.5008 - loss: 0.2508 - val_RootMeanSquaredError: 0.5329 - val_loss: 0.2839\n",
      "Epoch 92/100\n",
      "\u001b[1m363/363\u001b[0m \u001b[32m━━━━━━━━━━━━━━━━━━━━\u001b[0m\u001b[37m\u001b[0m \u001b[1m0s\u001b[0m 439us/step - RootMeanSquaredError: 0.5005 - loss: 0.2505 - val_RootMeanSquaredError: 0.5464 - val_loss: 0.2986\n",
      "Epoch 93/100\n",
      "\u001b[1m363/363\u001b[0m \u001b[32m━━━━━━━━━━━━━━━━━━━━\u001b[0m\u001b[37m\u001b[0m \u001b[1m0s\u001b[0m 438us/step - RootMeanSquaredError: 0.5005 - loss: 0.2505 - val_RootMeanSquaredError: 0.5199 - val_loss: 0.2703\n",
      "Epoch 94/100\n",
      "\u001b[1m363/363\u001b[0m \u001b[32m━━━━━━━━━━━━━━━━━━━━\u001b[0m\u001b[37m\u001b[0m \u001b[1m0s\u001b[0m 483us/step - RootMeanSquaredError: 0.4996 - loss: 0.2497 - val_RootMeanSquaredError: 0.5360 - val_loss: 0.2873\n",
      "Epoch 95/100\n",
      "\u001b[1m363/363\u001b[0m \u001b[32m━━━━━━━━━━━━━━━━━━━━\u001b[0m\u001b[37m\u001b[0m \u001b[1m0s\u001b[0m 420us/step - RootMeanSquaredError: 0.4994 - loss: 0.2494 - val_RootMeanSquaredError: 0.5195 - val_loss: 0.2699\n",
      "Epoch 96/100\n",
      "\u001b[1m363/363\u001b[0m \u001b[32m━━━━━━━━━━━━━━━━━━━━\u001b[0m\u001b[37m\u001b[0m \u001b[1m0s\u001b[0m 420us/step - RootMeanSquaredError: 0.4991 - loss: 0.2491 - val_RootMeanSquaredError: 0.5287 - val_loss: 0.2795\n",
      "Epoch 97/100\n",
      "\u001b[1m363/363\u001b[0m \u001b[32m━━━━━━━━━━━━━━━━━━━━\u001b[0m\u001b[37m\u001b[0m \u001b[1m0s\u001b[0m 463us/step - RootMeanSquaredError: 0.4985 - loss: 0.2485 - val_RootMeanSquaredError: 0.5190 - val_loss: 0.2694\n",
      "Epoch 98/100\n",
      "\u001b[1m363/363\u001b[0m \u001b[32m━━━━━━━━━━━━━━━━━━━━\u001b[0m\u001b[37m\u001b[0m \u001b[1m0s\u001b[0m 421us/step - RootMeanSquaredError: 0.4985 - loss: 0.2486 - val_RootMeanSquaredError: 0.5296 - val_loss: 0.2805\n",
      "Epoch 99/100\n",
      "\u001b[1m363/363\u001b[0m \u001b[32m━━━━━━━━━━━━━━━━━━━━\u001b[0m\u001b[37m\u001b[0m \u001b[1m0s\u001b[0m 413us/step - RootMeanSquaredError: 0.4981 - loss: 0.2481 - val_RootMeanSquaredError: 0.5188 - val_loss: 0.2692\n",
      "Epoch 100/100\n",
      "\u001b[1m363/363\u001b[0m \u001b[32m━━━━━━━━━━━━━━━━━━━━\u001b[0m\u001b[37m\u001b[0m \u001b[1m0s\u001b[0m 422us/step - RootMeanSquaredError: 0.4975 - loss: 0.2476 - val_RootMeanSquaredError: 0.5301 - val_loss: 0.2810\n"
     ]
    }
   ],
   "source": [
    "# Train the model.\n",
    "history = model.fit(X_train, y_train, epochs=100, validation_data=(X_valid, y_valid))"
   ]
  },
  {
   "cell_type": "code",
   "execution_count": 18,
   "metadata": {
    "colab": {
     "base_uri": "https://localhost:8080/",
     "height": 451
    },
    "id": "Z95S4Gd0pn_b",
    "outputId": "2e9c2a7b-8e2c-4db3-e866-5094207097cd"
   },
   "outputs": [
    {
     "data": {
      "image/png": "[encoded data removed]",
      "text/plain": [
       "<Figure size 800x500 with 1 Axes>"
      ]
     },
     "metadata": {},
     "output_type": "display_data"
    }
   ],
   "source": [
    "# Show the learning curves.\n",
    "pd.DataFrame(history.history).plot(figsize=(8, 5))\n",
    "plt.grid(True)\n",
    "plt.gca().set_ylim(0, 1)\n",
    "plt.show()"
   ]
  },
  {
   "cell_type": "code",
   "execution_count": 19,
   "metadata": {
    "colab": {
     "base_uri": "https://localhost:8080/"
    },
    "id": "5JRECEHspn_b",
    "outputId": "f56ab8d5-1e28-41f8-d8f6-20afc8b20315"
   },
   "outputs": [
    {
     "name": "stdout",
     "output_type": "stream",
     "text": [
      "\u001b[1m162/162\u001b[0m \u001b[32m━━━━━━━━━━━━━━━━━━━━\u001b[0m\u001b[37m\u001b[0m \u001b[1m0s\u001b[0m 277us/step - RootMeanSquaredError: 0.5297 - loss: 0.2808\n"
     ]
    }
   ],
   "source": [
    "# Evaluate the model (outputs the MSE).\n",
    "loss = model.evaluate(X_test, y_test)"
   ]
  },
  {
   "cell_type": "markdown",
   "metadata": {
    "id": "iRdy1iKkpn_b"
   },
   "source": [
    "<b>Observation:</b><br/>\n",
    "If we multipy the RMSE with 100000, we get the RMSE expressed in USD."
   ]
  },
  {
   "cell_type": "code",
   "execution_count": 21,
   "metadata": {
    "colab": {
     "base_uri": "https://localhost:8080/"
    },
    "id": "DKD4KAmCpn_b",
    "outputId": "f14eafe6-dd07-4756-a013-9bc18b967712"
   },
   "outputs": [
    {
     "name": "stdout",
     "output_type": "stream",
     "text": [
      "\u001b[1m1/1\u001b[0m \u001b[32m━━━━━━━━━━━━━━━━━━━━\u001b[0m\u001b[37m\u001b[0m \u001b[1m0s\u001b[0m 38ms/step\n"
     ]
    },
    {
     "data": {
      "text/plain": [
       "array([[0.42928463],\n",
       "       [0.92063856],\n",
       "       [4.8911138 ]], dtype=float32)"
      ]
     },
     "execution_count": 21,
     "metadata": {},
     "output_type": "execute_result"
    }
   ],
   "source": [
    "# Make predictions for the first 3 instances in the test set.\n",
    "X_new = X_test[:3]\n",
    "y_pred = model.predict(X_new)\n",
    "y_pred"
   ]
  },
  {
   "cell_type": "code",
   "execution_count": 22,
   "metadata": {
    "colab": {
     "base_uri": "https://localhost:8080/"
    },
    "id": "62dYeO6Hpn_b",
    "outputId": "1528db3d-b0aa-4ca6-ab58-757ced54aee5"
   },
   "outputs": [
    {
     "data": {
      "text/plain": [
       "array([0.477  , 0.458  , 5.00001])"
      ]
     },
     "execution_count": 22,
     "metadata": {},
     "output_type": "execute_result"
    }
   ],
   "source": [
    "# Compare with the corresponding values target values\n",
    "y_test[:3]"
   ]
  },
  {
   "cell_type": "markdown",
   "metadata": {
    "id": "YLd5Uvpvpn_b"
   },
   "source": [
    "<b>Observation:</b><br/>\n",
    "The second prediction is very bad given the RMSE. The other two predictions are okay."
   ]
  }
 ],
 "metadata": {
  "colab": {
   "provenance": []
  },
  "kernelspec": {
   "display_name": "Python 3 (ipykernel)",
   "language": "python",
   "name": "python3"
  },
  "language_info": {
   "codemirror_mode": {
    "name": "ipython",
    "version": 3
   },
   "file_extension": ".py",
   "mimetype": "text/x-python",
   "name": "python",
   "nbconvert_exporter": "python",
   "pygments_lexer": "ipython3",
   "version": "3.12.4"
  },
  "nav_menu": {
   "height": "264px",
   "width": "369px"
  },
  "toc": {
   "navigate_menu": true,
   "number_sections": true,
   "sideBar": true,
   "threshold": 6,
   "toc_cell": false,
   "toc_section_display": "block",
   "toc_window_display": false
  }
 },
 "nbformat": 4,
 "nbformat_minor": 4
}
