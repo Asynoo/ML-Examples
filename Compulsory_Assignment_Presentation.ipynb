{
 "cells": [
  {
   "metadata": {
    "ExecuteTime": {
     "end_time": "2025-10-05T00:09:28.619678Z",
     "start_time": "2025-10-05T00:09:28.446632Z"
    }
   },
   "cell_type": "markdown",
   "source": "# 0. Import",
   "id": "8435f16f37dce3bd"
  },
  {
   "metadata": {
    "ExecuteTime": {
     "end_time": "2025-10-06T16:55:07.278186Z",
     "start_time": "2025-10-06T16:55:06.221560Z"
    }
   },
   "cell_type": "code",
   "source": [
    "import time\n",
    "import numpy as np\n",
    "import matplotlib.pyplot as plt\n",
    "import seaborn as sns\n",
    "\n",
    "from sklearn.datasets import fetch_openml\n",
    "from sklearn.ensemble import RandomForestClassifier\n",
    "from sklearn.model_selection import train_test_split, GridSearchCV\n",
    "from sklearn.metrics import accuracy_score, classification_report, confusion_matrix, f1_score\n",
    "from tabulate import tabulate"
   ],
   "id": "aae85fe3a5b152ed",
   "outputs": [],
   "execution_count": 1
  },
  {
   "metadata": {},
   "cell_type": "markdown",
   "source": "# 1️. Load MNIST dataset",
   "id": "dc3d002fc2449d0"
  },
  {
   "metadata": {
    "ExecuteTime": {
     "end_time": "2025-10-06T16:55:09.846871Z",
     "start_time": "2025-10-06T16:55:07.282972Z"
    }
   },
   "cell_type": "code",
   "source": [
    "print(\"Loading MNIST dataset...\")\n",
    "start_time = time.time()\n",
    "\n",
    "mnist = fetch_openml('mnist_784', version=1, as_frame=False)\n",
    "X, y = mnist.data, mnist.target.astype(int)\n",
    "\n",
    "print(f\"Dataset shape: {X.shape}\")  # (70000, 784)\n",
    "print(f\"Labels: {np.unique(y)}\")"
   ],
   "id": "cd73e158dc100f53",
   "outputs": [
    {
     "name": "stdout",
     "output_type": "stream",
     "text": [
      "Loading MNIST dataset...\n",
      "Dataset shape: (70000, 784)\n",
      "Labels: [0 1 2 3 4 5 6 7 8 9]\n"
     ]
    }
   ],
   "execution_count": 2
  },
  {
   "metadata": {},
   "cell_type": "markdown",
   "source": "# 2. Split data into train/test sets",
   "id": "1c6fc1811bba03ce"
  },
  {
   "metadata": {
    "ExecuteTime": {
     "end_time": "2025-10-06T16:55:10.304723Z",
     "start_time": "2025-10-06T16:55:09.894395Z"
    }
   },
   "cell_type": "code",
   "source": [
    "X_train, X_test, y_train, y_test = train_test_split(\n",
    "    X, y, test_size=0.2, random_state=42\n",
    ")\n",
    "print(f\"Train size: {X_train.shape}, Test size: {X_test.shape}\")"
   ],
   "id": "62ff95903676ac15",
   "outputs": [
    {
     "name": "stdout",
     "output_type": "stream",
     "text": [
      "Train size: (56000, 784), Test size: (14000, 784)\n"
     ]
    }
   ],
   "execution_count": 3
  },
  {
   "metadata": {},
   "cell_type": "markdown",
   "source": "# 3. Train baseline Random Forest",
   "id": "5c9ff8a4901544"
  },
  {
   "metadata": {
    "ExecuteTime": {
     "end_time": "2025-10-06T16:55:41.383533Z",
     "start_time": "2025-10-06T16:55:10.339421Z"
    }
   },
   "cell_type": "code",
   "source": [
    "print(\"Training baseline Random Forest...\")\n",
    "baseline_start = time.time()\n",
    "\n",
    "rf_baseline = RandomForestClassifier(\n",
    "    n_estimators=500,\n",
    "    random_state=42,\n",
    "    n_jobs=-1)\n",
    "rf_baseline.fit(X_train, y_train)\n",
    "\n",
    "y_pred_baseline = rf_baseline.predict(X_test)\n",
    "baseline_accuracy = accuracy_score(y_test, y_pred_baseline)\n",
    "baseline_f1 = f1_score(y_test, y_pred_baseline, average='macro')\n",
    "print(f\"Baseline Accuracy: {baseline_accuracy:.4f}\")\n",
    "print(f\"Baseline Macro F1 Score: {baseline_f1:.4f}\")\n",
    "\n",
    "baseline_end = time.time()\n",
    "print(f\"Baseline training + prediction time: {baseline_end - baseline_start:.2f} seconds\")"
   ],
   "id": "ca55799608234d47",
   "outputs": [
    {
     "name": "stdout",
     "output_type": "stream",
     "text": [
      "Training baseline Random Forest...\n",
      "Baseline Accuracy: 0.9689\n",
      "Baseline Macro F1 Score: 0.9688\n",
      "Baseline training + prediction time: 31.04 seconds\n"
     ]
    }
   ],
   "execution_count": 4
  },
  {
   "metadata": {},
   "cell_type": "markdown",
   "source": "# 4. Fine-tune Random Forest using GridSearchCV",
   "id": "1549b76521d169a3"
  },
  {
   "metadata": {
    "jupyter": {
     "is_executing": true
    },
    "ExecuteTime": {
     "start_time": "2025-10-06T16:55:41.470713Z"
    }
   },
   "cell_type": "code",
   "source": [
    "print(\"Fine-tuning Random Forest...\")\n",
    "tune_start = time.time()\n",
    "\n",
    "param_grid = {\n",
    "    'n_estimators': [200, 300, 500],\n",
    "    'max_depth': [None, 20, 30],\n",
    "    'min_samples_split': [2, 5],\n",
    "    'min_samples_leaf': [1, 2],\n",
    "    'bootstrap': [True, False],\n",
    "}\n",
    "\n",
    "grid_search = GridSearchCV(\n",
    "    RandomForestClassifier(random_state=42, n_jobs=-1),\n",
    "    param_grid,\n",
    "    cv=3,\n",
    "    n_jobs=-1,\n",
    "    verbose=1\n",
    ")\n",
    "grid_search.fit(X_train, y_train)\n",
    "\n",
    "print(f\"Best parameters: {grid_search.best_params_}\")\n",
    "print(f\"Best cross-validation accuracy: {grid_search.best_score_:.4f}\")\n",
    "\n",
    "tune_end = time.time()\n",
    "print(f\"Grid search time: {tune_end - tune_start:.2f} seconds\")"
   ],
   "id": "17944ef1aef00a18",
   "outputs": [
    {
     "name": "stdout",
     "output_type": "stream",
     "text": [
      "Fine-tuning Random Forest...\n",
      "Fitting 3 folds for each of 72 candidates, totalling 216 fits\n"
     ]
    }
   ],
   "execution_count": null
  },
  {
   "metadata": {},
   "cell_type": "markdown",
   "source": "# 5. Evaluate Tuned Model",
   "id": "a6bccb1445b79cce"
  },
  {
   "metadata": {},
   "cell_type": "code",
   "source": [
    "best_rf = grid_search.best_estimator_\n",
    "y_pred_best = best_rf.predict(X_test)\n",
    "\n",
    "accuracy_best = accuracy_score(y_test, y_pred_best)\n",
    "f1_best = f1_score(y_test, y_pred_best, average='macro')\n",
    "\n",
    "print(f\"Tuned Random Forest Accuracy: {accuracy_best:.4f}\")\n",
    "print(f\"Tuned Random Forest Macro F1 Score: {f1_best:.4f}\")\n",
    "\n",
    "print(\"\\nClassification Report:\")\n",
    "print(classification_report(y_test, y_pred_best, digits=4))\n",
    "\n",
    "# Normalized Confusion Matrix\n",
    "cm = confusion_matrix(y_test, y_pred_best)\n",
    "cm_normalized = cm.astype('float') / cm.sum(axis=1)[:, np.newaxis]\n",
    "\n",
    "plt.figure(figsize=(10, 8))\n",
    "sns.heatmap(cm_normalized, annot=True, fmt=\".2f\", cmap='Blues')\n",
    "plt.title(\"Normalized Confusion Matrix - Tuned Random Forest\")\n",
    "plt.xlabel(\"Predicted Label\")\n",
    "plt.ylabel(\"True Label\")\n",
    "plt.show()"
   ],
   "id": "7cc06d068df51cb7",
   "outputs": [],
   "execution_count": null
  },
  {
   "metadata": {},
   "cell_type": "markdown",
   "source": "# 6. Example Predictions",
   "id": "13b6236d6f2713a4"
  },
  {
   "metadata": {},
   "cell_type": "code",
   "source": [
    "fig, axes = plt.subplots(1, 16, figsize=(12, 5))\n",
    "\n",
    "for i, ax in enumerate(axes.flat):\n",
    "    ax.imshow(X_test[i].reshape(28, 28), cmap='gray')\n",
    "    ax.set_title(f\"Pred: {y_pred_best[i]}\\nTrue: {y_test[i]}\")\n",
    "    ax.axis('off')\n",
    "\n",
    "plt.tight_layout()\n",
    "plt.show()"
   ],
   "id": "396607459761712c",
   "outputs": [],
   "execution_count": null
  },
  {
   "metadata": {},
   "cell_type": "markdown",
   "source": "# 7. Tree Depth Analysis",
   "id": "83db05739fa12020"
  },
  {
   "metadata": {},
   "cell_type": "code",
   "source": [
    "tree_depths = [estimator.tree_.max_depth for estimator in best_rf.estimators_]\n",
    "avg_depth = np.mean(tree_depths)\n",
    "max_depth = np.max(tree_depths)\n",
    "min_depth = np.min(tree_depths)\n",
    "\n",
    "print(\"\\n🔍 Tree Depth Analysis:\")\n",
    "print(f\"Average tree depth: {avg_depth:.2f}\")\n",
    "print(f\"Max tree depth: {max_depth}\")\n",
    "print(f\"Min tree depth: {min_depth}\")\n",
    "\n",
    "plt.figure(figsize=(8, 4))\n",
    "sns.histplot(tree_depths, bins=20, kde=True)\n",
    "plt.title(\"Distribution of Tree Depths in Tuned Random Forest\")\n",
    "plt.xlabel(\"Tree Depth\")\n",
    "plt.ylabel(\"Number of Trees\")\n",
    "plt.show()"
   ],
   "id": "79919095bc6d7a4f",
   "outputs": [],
   "execution_count": null
  },
  {
   "metadata": {},
   "cell_type": "markdown",
   "source": "# 8. Overview",
   "id": "17d8ff57d7a1e92c"
  },
  {
   "metadata": {},
   "cell_type": "code",
   "source": [
    "total_time = time.time() - start_time\n",
    "\n",
    "summary_data = [\n",
    "    [\"Total Runtime (s)\", f\"{total_time:.2f}\"],\n",
    "    [\"Baseline Training Time (s)\", f\"{baseline_end - baseline_start:.2f}\"],\n",
    "    [\"Grid Search Time (s)\", f\"{tune_end - tune_start:.2f}\"],\n",
    "    [\"Baseline Accuracy\", f\"{baseline_accuracy:.4f}\"],\n",
    "    [\"Best Cross-Validation Accuracy\", f\"{grid_search.best_score_:.4f}\"],\n",
    "    [\"Tuned Model Accuracy\", f\"{accuracy_best:.4f}\"],\n",
    "    [\"Average Tree Depth\", f\"{avg_depth:.2f}\"],\n",
    "]\n",
    "\n",
    "print(tabulate(summary_data, headers=[\"Metric\", \"Value\"], tablefmt=\"fancy_grid\"))"
   ],
   "id": "c65fb0036a645845",
   "outputs": [],
   "execution_count": null
  }
 ],
 "metadata": {
  "kernelspec": {
   "display_name": "Python 3",
   "language": "python",
   "name": "python3"
  },
  "language_info": {
   "codemirror_mode": {
    "name": "ipython",
    "version": 2
   },
   "file_extension": ".py",
   "mimetype": "text/x-python",
   "name": "python",
   "nbconvert_exporter": "python",
   "pygments_lexer": "ipython2",
   "version": "2.7.6"
  }
 },
 "nbformat": 4,
 "nbformat_minor": 5
}
